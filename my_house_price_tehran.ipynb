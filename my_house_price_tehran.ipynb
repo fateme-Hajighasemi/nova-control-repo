{
  "cells": [
    {
      "cell_type": "markdown",
      "metadata": {},
      "source": [
        "# Import"
      ]
    },
    {
      "cell_type": "code",
      "execution_count": 1,
      "metadata": {
        "id": "ol6c-CXGncz-"
      },
      "outputs": [],
      "source": [
        "# Importing core data processing and visualization libraries\n",
        "import numpy as np  \n",
        "import pandas as pd  \n",
        "import matplotlib.pyplot as plt  \n",
        "import seaborn as sns  \n",
        "import time\n",
        "\n",
        "# Scikit-learn model selection and evaluation tools\n",
        "from sklearn.model_selection import train_test_split  \n",
        "from sklearn.model_selection import GridSearchCV  # Hyperparameter tuning\n",
        "from sklearn.model_selection import KFold  # Cross-validation strategy\n",
        "\n",
        "# Model performance metrics\n",
        "from sklearn.metrics import mean_squared_error  \n",
        "\n",
        "# Scikit-learn regression models\n",
        "from sklearn.linear_model import LinearRegression  # Basic linear model\n",
        "from sklearn.linear_model import Ridge  # L2 regularization\n",
        "from sklearn.linear_model import Lasso  # L1 regularization\n",
        "from sklearn.linear_model import ElasticNet  # Combined L1/L2 regularization\n",
        "from sklearn.tree import DecisionTreeRegressor  # Single tree model\n",
        "from sklearn.ensemble import RandomForestRegressor  # Ensemble of decision trees\n",
        "from sklearn.ensemble import ExtraTreesRegressor  # Extremely Randomized Trees\n",
        "from sklearn.ensemble import GradientBoostingRegressor  # Gradient boosting implementation\n",
        "from sklearn.neighbors import KNeighborsRegressor  # K-nearest neighbors regressor\n",
        "\n",
        "# XGBoost - optimized gradient boosting library\n",
        "from xgboost import XGBRegressor\n",
        "\n",
        "# Model persistence\n",
        "import joblib  # For saving/loading trained models\n",
        "import gradio as gr\n",
        "\n",
        "import warnings\n",
        "warnings.filterwarnings('ignore')  # Use with caution - only for production-ready code"
      ]
    },
    {
      "cell_type": "markdown",
      "metadata": {},
      "source": [
        "# Load Data"
      ]
    },
    {
      "cell_type": "code",
      "execution_count": 2,
      "metadata": {},
      "outputs": [
        {
          "data": {
            "text/html": [
              "<div>\n",
              "<style scoped>\n",
              "    .dataframe tbody tr th:only-of-type {\n",
              "        vertical-align: middle;\n",
              "    }\n",
              "\n",
              "    .dataframe tbody tr th {\n",
              "        vertical-align: top;\n",
              "    }\n",
              "\n",
              "    .dataframe thead th {\n",
              "        text-align: right;\n",
              "    }\n",
              "</style>\n",
              "<table border=\"1\" class=\"dataframe\">\n",
              "  <thead>\n",
              "    <tr style=\"text-align: right;\">\n",
              "      <th></th>\n",
              "      <th>Area</th>\n",
              "      <th>Room</th>\n",
              "      <th>Parking</th>\n",
              "      <th>Warehouse</th>\n",
              "      <th>Elevator</th>\n",
              "      <th>Address</th>\n",
              "      <th>Price</th>\n",
              "      <th>Price(USD)</th>\n",
              "    </tr>\n",
              "  </thead>\n",
              "  <tbody>\n",
              "    <tr>\n",
              "      <th>0</th>\n",
              "      <td>63</td>\n",
              "      <td>1</td>\n",
              "      <td>True</td>\n",
              "      <td>True</td>\n",
              "      <td>True</td>\n",
              "      <td>Shahran</td>\n",
              "      <td>1850000000</td>\n",
              "      <td>61666.67</td>\n",
              "    </tr>\n",
              "    <tr>\n",
              "      <th>1</th>\n",
              "      <td>60</td>\n",
              "      <td>1</td>\n",
              "      <td>True</td>\n",
              "      <td>True</td>\n",
              "      <td>True</td>\n",
              "      <td>Shahran</td>\n",
              "      <td>1850000000</td>\n",
              "      <td>61666.67</td>\n",
              "    </tr>\n",
              "    <tr>\n",
              "      <th>2</th>\n",
              "      <td>79</td>\n",
              "      <td>2</td>\n",
              "      <td>True</td>\n",
              "      <td>True</td>\n",
              "      <td>True</td>\n",
              "      <td>Pardis</td>\n",
              "      <td>550000000</td>\n",
              "      <td>18333.33</td>\n",
              "    </tr>\n",
              "    <tr>\n",
              "      <th>3</th>\n",
              "      <td>95</td>\n",
              "      <td>2</td>\n",
              "      <td>True</td>\n",
              "      <td>True</td>\n",
              "      <td>True</td>\n",
              "      <td>Shahrake Qods</td>\n",
              "      <td>902500000</td>\n",
              "      <td>30083.33</td>\n",
              "    </tr>\n",
              "    <tr>\n",
              "      <th>4</th>\n",
              "      <td>123</td>\n",
              "      <td>2</td>\n",
              "      <td>True</td>\n",
              "      <td>True</td>\n",
              "      <td>True</td>\n",
              "      <td>Shahrake Gharb</td>\n",
              "      <td>7000000000</td>\n",
              "      <td>233333.33</td>\n",
              "    </tr>\n",
              "  </tbody>\n",
              "</table>\n",
              "</div>"
            ],
            "text/plain": [
              "  Area  Room  Parking  Warehouse  Elevator         Address       Price  \\\n",
              "0   63     1     True       True      True         Shahran  1850000000   \n",
              "1   60     1     True       True      True         Shahran  1850000000   \n",
              "2   79     2     True       True      True          Pardis   550000000   \n",
              "3   95     2     True       True      True   Shahrake Qods   902500000   \n",
              "4  123     2     True       True      True  Shahrake Gharb  7000000000   \n",
              "\n",
              "   Price(USD)  \n",
              "0    61666.67  \n",
              "1    61666.67  \n",
              "2    18333.33  \n",
              "3    30083.33  \n",
              "4   233333.33  "
            ]
          },
          "execution_count": 2,
          "metadata": {},
          "output_type": "execute_result"
        }
      ],
      "source": [
        "# Loading the dataset from CSV file into a pandas DataFrame\n",
        "df = pd.read_csv('tehranhouses.csv')\n",
        "# Displaying first 5 rows of the dataframe to:\n",
        "df.head()"
      ]
    },
    {
      "cell_type": "markdown",
      "metadata": {},
      "source": [
        "# Explore The Data"
      ]
    },
    {
      "cell_type": "code",
      "execution_count": 2,
      "metadata": {
        "id": "A3LeixJanc0I"
      },
      "outputs": [
        {
          "data": {
            "text/plain": [
              "Index(['Area', 'Room', 'Parking', 'Warehouse', 'Elevator', 'Address', 'Price',\n",
              "       'Price(USD)'],\n",
              "      dtype='object')"
            ]
          },
          "execution_count": 2,
          "metadata": {},
          "output_type": "execute_result"
        }
      ],
      "source": [
        "df.columns"
      ]
    },
    {
      "cell_type": "code",
      "execution_count": 3,
      "metadata": {
        "id": "QeypAHtenc0M"
      },
      "outputs": [
        {
          "name": "stdout",
          "output_type": "stream",
          "text": [
            "<class 'pandas.core.frame.DataFrame'>\n",
            "RangeIndex: 3479 entries, 0 to 3478\n",
            "Data columns (total 8 columns):\n",
            " #   Column      Non-Null Count  Dtype  \n",
            "---  ------      --------------  -----  \n",
            " 0   Area        3479 non-null   object \n",
            " 1   Room        3479 non-null   int64  \n",
            " 2   Parking     3479 non-null   bool   \n",
            " 3   Warehouse   3479 non-null   bool   \n",
            " 4   Elevator    3479 non-null   bool   \n",
            " 5   Address     3456 non-null   object \n",
            " 6   Price       3479 non-null   int64  \n",
            " 7   Price(USD)  3479 non-null   float64\n",
            "dtypes: bool(3), float64(1), int64(2), object(2)\n",
            "memory usage: 146.2+ KB\n"
          ]
        }
      ],
      "source": [
        "df.info()"
      ]
    },
    {
      "cell_type": "code",
      "execution_count": 4,
      "metadata": {
        "id": "NLHxfN29nc0S"
      },
      "outputs": [
        {
          "data": {
            "text/html": [
              "<div>\n",
              "<style scoped>\n",
              "    .dataframe tbody tr th:only-of-type {\n",
              "        vertical-align: middle;\n",
              "    }\n",
              "\n",
              "    .dataframe tbody tr th {\n",
              "        vertical-align: top;\n",
              "    }\n",
              "\n",
              "    .dataframe thead th {\n",
              "        text-align: right;\n",
              "    }\n",
              "</style>\n",
              "<table border=\"1\" class=\"dataframe\">\n",
              "  <thead>\n",
              "    <tr style=\"text-align: right;\">\n",
              "      <th></th>\n",
              "      <th>Room</th>\n",
              "      <th>Price</th>\n",
              "      <th>Price(USD)</th>\n",
              "    </tr>\n",
              "  </thead>\n",
              "  <tbody>\n",
              "    <tr>\n",
              "      <th>count</th>\n",
              "      <td>3479.000000</td>\n",
              "      <td>3.479000e+03</td>\n",
              "      <td>3.479000e+03</td>\n",
              "    </tr>\n",
              "    <tr>\n",
              "      <th>mean</th>\n",
              "      <td>2.079908</td>\n",
              "      <td>5.359023e+09</td>\n",
              "      <td>1.786341e+05</td>\n",
              "    </tr>\n",
              "    <tr>\n",
              "      <th>std</th>\n",
              "      <td>0.758275</td>\n",
              "      <td>8.099935e+09</td>\n",
              "      <td>2.699978e+05</td>\n",
              "    </tr>\n",
              "    <tr>\n",
              "      <th>min</th>\n",
              "      <td>0.000000</td>\n",
              "      <td>3.600000e+06</td>\n",
              "      <td>1.200000e+02</td>\n",
              "    </tr>\n",
              "    <tr>\n",
              "      <th>25%</th>\n",
              "      <td>2.000000</td>\n",
              "      <td>1.418250e+09</td>\n",
              "      <td>4.727500e+04</td>\n",
              "    </tr>\n",
              "    <tr>\n",
              "      <th>50%</th>\n",
              "      <td>2.000000</td>\n",
              "      <td>2.900000e+09</td>\n",
              "      <td>9.666667e+04</td>\n",
              "    </tr>\n",
              "    <tr>\n",
              "      <th>75%</th>\n",
              "      <td>2.000000</td>\n",
              "      <td>6.000000e+09</td>\n",
              "      <td>2.000000e+05</td>\n",
              "    </tr>\n",
              "    <tr>\n",
              "      <th>max</th>\n",
              "      <td>5.000000</td>\n",
              "      <td>9.240000e+10</td>\n",
              "      <td>3.080000e+06</td>\n",
              "    </tr>\n",
              "  </tbody>\n",
              "</table>\n",
              "</div>"
            ],
            "text/plain": [
              "              Room         Price    Price(USD)\n",
              "count  3479.000000  3.479000e+03  3.479000e+03\n",
              "mean      2.079908  5.359023e+09  1.786341e+05\n",
              "std       0.758275  8.099935e+09  2.699978e+05\n",
              "min       0.000000  3.600000e+06  1.200000e+02\n",
              "25%       2.000000  1.418250e+09  4.727500e+04\n",
              "50%       2.000000  2.900000e+09  9.666667e+04\n",
              "75%       2.000000  6.000000e+09  2.000000e+05\n",
              "max       5.000000  9.240000e+10  3.080000e+06"
            ]
          },
          "execution_count": 4,
          "metadata": {},
          "output_type": "execute_result"
        }
      ],
      "source": [
        "df.describe()"
      ]
    },
    {
      "cell_type": "code",
      "execution_count": 5,
      "metadata": {
        "id": "jiJiHR-8nc0X"
      },
      "outputs": [
        {
          "data": {
            "text/html": [
              "<div>\n",
              "<style scoped>\n",
              "    .dataframe tbody tr th:only-of-type {\n",
              "        vertical-align: middle;\n",
              "    }\n",
              "\n",
              "    .dataframe tbody tr th {\n",
              "        vertical-align: top;\n",
              "    }\n",
              "\n",
              "    .dataframe thead th {\n",
              "        text-align: right;\n",
              "    }\n",
              "</style>\n",
              "<table border=\"1\" class=\"dataframe\">\n",
              "  <thead>\n",
              "    <tr style=\"text-align: right;\">\n",
              "      <th></th>\n",
              "      <th>Area</th>\n",
              "      <th>Room</th>\n",
              "      <th>Parking</th>\n",
              "      <th>Warehouse</th>\n",
              "      <th>Elevator</th>\n",
              "      <th>Address</th>\n",
              "      <th>Price</th>\n",
              "      <th>Price(USD)</th>\n",
              "    </tr>\n",
              "  </thead>\n",
              "  <tbody>\n",
              "    <tr>\n",
              "      <th>136</th>\n",
              "      <td>160</td>\n",
              "      <td>1</td>\n",
              "      <td>False</td>\n",
              "      <td>False</td>\n",
              "      <td>False</td>\n",
              "      <td>Qarchak</td>\n",
              "      <td>3600000</td>\n",
              "      <td>120.0</td>\n",
              "    </tr>\n",
              "  </tbody>\n",
              "</table>\n",
              "</div>"
            ],
            "text/plain": [
              "    Area  Room  Parking  Warehouse  Elevator  Address    Price  Price(USD)\n",
              "136  160     1    False      False     False  Qarchak  3600000       120.0"
            ]
          },
          "execution_count": 5,
          "metadata": {},
          "output_type": "execute_result"
        }
      ],
      "source": [
        "# lowest price\n",
        "df[df['Price'] == 3.600000e+06]"
      ]
    },
    {
      "cell_type": "code",
      "execution_count": 6,
      "metadata": {
        "id": "GBkDFzLmnc0c"
      },
      "outputs": [
        {
          "data": {
            "text/html": [
              "<div>\n",
              "<style scoped>\n",
              "    .dataframe tbody tr th:only-of-type {\n",
              "        vertical-align: middle;\n",
              "    }\n",
              "\n",
              "    .dataframe tbody tr th {\n",
              "        vertical-align: top;\n",
              "    }\n",
              "\n",
              "    .dataframe thead th {\n",
              "        text-align: right;\n",
              "    }\n",
              "</style>\n",
              "<table border=\"1\" class=\"dataframe\">\n",
              "  <thead>\n",
              "    <tr style=\"text-align: right;\">\n",
              "      <th></th>\n",
              "      <th>Area</th>\n",
              "      <th>Room</th>\n",
              "      <th>Parking</th>\n",
              "      <th>Warehouse</th>\n",
              "      <th>Elevator</th>\n",
              "      <th>Address</th>\n",
              "      <th>Price</th>\n",
              "      <th>Price(USD)</th>\n",
              "    </tr>\n",
              "  </thead>\n",
              "  <tbody>\n",
              "    <tr>\n",
              "      <th>1707</th>\n",
              "      <td>420</td>\n",
              "      <td>4</td>\n",
              "      <td>True</td>\n",
              "      <td>True</td>\n",
              "      <td>True</td>\n",
              "      <td>Zaferanieh</td>\n",
              "      <td>92400000000</td>\n",
              "      <td>3080000.0</td>\n",
              "    </tr>\n",
              "  </tbody>\n",
              "</table>\n",
              "</div>"
            ],
            "text/plain": [
              "     Area  Room  Parking  Warehouse  Elevator     Address        Price  \\\n",
              "1707  420     4     True       True      True  Zaferanieh  92400000000   \n",
              "\n",
              "      Price(USD)  \n",
              "1707   3080000.0  "
            ]
          },
          "execution_count": 6,
          "metadata": {},
          "output_type": "execute_result"
        }
      ],
      "source": [
        "# Highest price\n",
        "df[df['Price'] == 9.240000e+10]"
      ]
    },
    {
      "cell_type": "code",
      "execution_count": 7,
      "metadata": {
        "id": "msAkL3D7nc0e"
      },
      "outputs": [],
      "source": [
        "df['Area'] = df['Area'].str.replace(',','')"
      ]
    },
    {
      "cell_type": "code",
      "execution_count": 8,
      "metadata": {
        "id": "VigBEkzync0h"
      },
      "outputs": [],
      "source": [
        "df['Area'] = pd.to_numeric(df['Area'] ,errors='coerce')"
      ]
    },
    {
      "cell_type": "code",
      "execution_count": 9,
      "metadata": {
        "id": "O0NLH_Qknc0l"
      },
      "outputs": [
        {
          "name": "stdout",
          "output_type": "stream",
          "text": [
            "<class 'pandas.core.frame.DataFrame'>\n",
            "RangeIndex: 3479 entries, 0 to 3478\n",
            "Data columns (total 8 columns):\n",
            " #   Column      Non-Null Count  Dtype  \n",
            "---  ------      --------------  -----  \n",
            " 0   Area        3479 non-null   int64  \n",
            " 1   Room        3479 non-null   int64  \n",
            " 2   Parking     3479 non-null   bool   \n",
            " 3   Warehouse   3479 non-null   bool   \n",
            " 4   Elevator    3479 non-null   bool   \n",
            " 5   Address     3456 non-null   object \n",
            " 6   Price       3479 non-null   int64  \n",
            " 7   Price(USD)  3479 non-null   float64\n",
            "dtypes: bool(3), float64(1), int64(3), object(1)\n",
            "memory usage: 146.2+ KB\n"
          ]
        }
      ],
      "source": [
        "df.info()"
      ]
    },
    {
      "cell_type": "code",
      "execution_count": 10,
      "metadata": {
        "id": "rhH0Z6wJnc0p"
      },
      "outputs": [
        {
          "data": {
            "text/plain": [
              "(3479, 8)"
            ]
          },
          "execution_count": 10,
          "metadata": {},
          "output_type": "execute_result"
        }
      ],
      "source": [
        "df.shape"
      ]
    },
    {
      "cell_type": "code",
      "execution_count": 11,
      "metadata": {
        "id": "VwdaUoLmnc0s"
      },
      "outputs": [
        {
          "data": {
            "text/plain": [
              "Area           0\n",
              "Room           0\n",
              "Parking        0\n",
              "Warehouse      0\n",
              "Elevator       0\n",
              "Address       23\n",
              "Price          0\n",
              "Price(USD)     0\n",
              "dtype: int64"
            ]
          },
          "execution_count": 11,
          "metadata": {},
          "output_type": "execute_result"
        }
      ],
      "source": [
        "df.isnull().sum()"
      ]
    },
    {
      "cell_type": "code",
      "execution_count": 12,
      "metadata": {
        "id": "z3HrKXujnc0w"
      },
      "outputs": [],
      "source": [
        "# Remove rows with any missing values (in-place modification)\n",
        "df.dropna(inplace=True)"
      ]
    },
    {
      "cell_type": "code",
      "execution_count": 13,
      "metadata": {
        "id": "9Qm-KQtpnc0y"
      },
      "outputs": [
        {
          "data": {
            "text/plain": [
              "(3456, 8)"
            ]
          },
          "execution_count": 13,
          "metadata": {},
          "output_type": "execute_result"
        }
      ],
      "source": [
        "df.shape"
      ]
    },
    {
      "cell_type": "code",
      "execution_count": 14,
      "metadata": {
        "id": "_TqzUiZDnc01"
      },
      "outputs": [
        {
          "data": {
            "text/plain": [
              "Parking\n",
              "True     84.751157\n",
              "False    15.248843\n",
              "Name: proportion, dtype: float64"
            ]
          },
          "execution_count": 14,
          "metadata": {},
          "output_type": "execute_result"
        }
      ],
      "source": [
        "df['Parking'].value_counts(normalize=True)*100"
      ]
    },
    {
      "cell_type": "code",
      "execution_count": 15,
      "metadata": {
        "id": "Dduld6ldnc03"
      },
      "outputs": [
        {
          "data": {
            "text/plain": [
              "Warehouse\n",
              "True     91.493056\n",
              "False     8.506944\n",
              "Name: proportion, dtype: float64"
            ]
          },
          "execution_count": 15,
          "metadata": {},
          "output_type": "execute_result"
        }
      ],
      "source": [
        "df['Warehouse'].value_counts(normalize=True)*100"
      ]
    },
    {
      "cell_type": "code",
      "execution_count": 16,
      "metadata": {
        "id": "OCUJtGhInc06"
      },
      "outputs": [
        {
          "data": {
            "text/plain": [
              "Elevator\n",
              "True     78.732639\n",
              "False    21.267361\n",
              "Name: proportion, dtype: float64"
            ]
          },
          "execution_count": 16,
          "metadata": {},
          "output_type": "execute_result"
        }
      ],
      "source": [
        "df['Elevator'].value_counts(normalize=True)*100"
      ]
    },
    {
      "cell_type": "code",
      "execution_count": 17,
      "metadata": {
        "id": "TyiUnJaZnc09"
      },
      "outputs": [
        {
          "data": {
            "text/html": [
              "<div>\n",
              "<style scoped>\n",
              "    .dataframe tbody tr th:only-of-type {\n",
              "        vertical-align: middle;\n",
              "    }\n",
              "\n",
              "    .dataframe tbody tr th {\n",
              "        vertical-align: top;\n",
              "    }\n",
              "\n",
              "    .dataframe thead th {\n",
              "        text-align: right;\n",
              "    }\n",
              "</style>\n",
              "<table border=\"1\" class=\"dataframe\">\n",
              "  <thead>\n",
              "    <tr style=\"text-align: right;\">\n",
              "      <th>Room</th>\n",
              "      <th>0</th>\n",
              "      <th>1</th>\n",
              "      <th>2</th>\n",
              "      <th>3</th>\n",
              "      <th>4</th>\n",
              "      <th>5</th>\n",
              "    </tr>\n",
              "    <tr>\n",
              "      <th>Parking</th>\n",
              "      <th></th>\n",
              "      <th></th>\n",
              "      <th></th>\n",
              "      <th></th>\n",
              "      <th></th>\n",
              "      <th></th>\n",
              "    </tr>\n",
              "  </thead>\n",
              "  <tbody>\n",
              "    <tr>\n",
              "      <th>False</th>\n",
              "      <td>8</td>\n",
              "      <td>243</td>\n",
              "      <td>244</td>\n",
              "      <td>26</td>\n",
              "      <td>1</td>\n",
              "      <td>5</td>\n",
              "    </tr>\n",
              "    <tr>\n",
              "      <th>True</th>\n",
              "      <td>2</td>\n",
              "      <td>426</td>\n",
              "      <td>1699</td>\n",
              "      <td>705</td>\n",
              "      <td>69</td>\n",
              "      <td>28</td>\n",
              "    </tr>\n",
              "  </tbody>\n",
              "</table>\n",
              "</div>"
            ],
            "text/plain": [
              "Room     0    1     2    3   4   5\n",
              "Parking                           \n",
              "False    8  243   244   26   1   5\n",
              "True     2  426  1699  705  69  28"
            ]
          },
          "execution_count": 17,
          "metadata": {},
          "output_type": "execute_result"
        }
      ],
      "source": [
        "pd.crosstab( df.Parking, df.Room )"
      ]
    },
    {
      "cell_type": "code",
      "execution_count": 18,
      "metadata": {
        "id": "aWRy_LSfnc1A"
      },
      "outputs": [
        {
          "data": {
            "text/html": [
              "<div>\n",
              "<style scoped>\n",
              "    .dataframe tbody tr th:only-of-type {\n",
              "        vertical-align: middle;\n",
              "    }\n",
              "\n",
              "    .dataframe tbody tr th {\n",
              "        vertical-align: top;\n",
              "    }\n",
              "\n",
              "    .dataframe thead th {\n",
              "        text-align: right;\n",
              "    }\n",
              "</style>\n",
              "<table border=\"1\" class=\"dataframe\">\n",
              "  <thead>\n",
              "    <tr style=\"text-align: right;\">\n",
              "      <th></th>\n",
              "      <th>Area</th>\n",
              "      <th>Room</th>\n",
              "      <th>Price</th>\n",
              "      <th>Price(USD)</th>\n",
              "    </tr>\n",
              "  </thead>\n",
              "  <tbody>\n",
              "    <tr>\n",
              "      <th>count</th>\n",
              "      <td>3.456000e+03</td>\n",
              "      <td>3456.000000</td>\n",
              "      <td>3.456000e+03</td>\n",
              "      <td>3.456000e+03</td>\n",
              "    </tr>\n",
              "    <tr>\n",
              "      <th>mean</th>\n",
              "      <td>8.802191e+06</td>\n",
              "      <td>2.081308</td>\n",
              "      <td>5.379957e+09</td>\n",
              "      <td>1.793319e+05</td>\n",
              "    </tr>\n",
              "    <tr>\n",
              "      <th>std</th>\n",
              "      <td>3.177783e+08</td>\n",
              "      <td>0.759723</td>\n",
              "      <td>8.121729e+09</td>\n",
              "      <td>2.707243e+05</td>\n",
              "    </tr>\n",
              "    <tr>\n",
              "      <th>min</th>\n",
              "      <td>3.000000e+01</td>\n",
              "      <td>0.000000</td>\n",
              "      <td>3.600000e+06</td>\n",
              "      <td>1.200000e+02</td>\n",
              "    </tr>\n",
              "    <tr>\n",
              "      <th>25%</th>\n",
              "      <td>6.900000e+01</td>\n",
              "      <td>2.000000</td>\n",
              "      <td>1.420000e+09</td>\n",
              "      <td>4.733333e+04</td>\n",
              "    </tr>\n",
              "    <tr>\n",
              "      <th>50%</th>\n",
              "      <td>9.000000e+01</td>\n",
              "      <td>2.000000</td>\n",
              "      <td>2.900000e+09</td>\n",
              "      <td>9.666667e+04</td>\n",
              "    </tr>\n",
              "    <tr>\n",
              "      <th>75%</th>\n",
              "      <td>1.210000e+02</td>\n",
              "      <td>2.000000</td>\n",
              "      <td>6.000000e+09</td>\n",
              "      <td>2.000000e+05</td>\n",
              "    </tr>\n",
              "    <tr>\n",
              "      <th>max</th>\n",
              "      <td>1.616000e+10</td>\n",
              "      <td>5.000000</td>\n",
              "      <td>9.240000e+10</td>\n",
              "      <td>3.080000e+06</td>\n",
              "    </tr>\n",
              "  </tbody>\n",
              "</table>\n",
              "</div>"
            ],
            "text/plain": [
              "               Area         Room         Price    Price(USD)\n",
              "count  3.456000e+03  3456.000000  3.456000e+03  3.456000e+03\n",
              "mean   8.802191e+06     2.081308  5.379957e+09  1.793319e+05\n",
              "std    3.177783e+08     0.759723  8.121729e+09  2.707243e+05\n",
              "min    3.000000e+01     0.000000  3.600000e+06  1.200000e+02\n",
              "25%    6.900000e+01     2.000000  1.420000e+09  4.733333e+04\n",
              "50%    9.000000e+01     2.000000  2.900000e+09  9.666667e+04\n",
              "75%    1.210000e+02     2.000000  6.000000e+09  2.000000e+05\n",
              "max    1.616000e+10     5.000000  9.240000e+10  3.080000e+06"
            ]
          },
          "execution_count": 18,
          "metadata": {},
          "output_type": "execute_result"
        }
      ],
      "source": [
        "df.describe()"
      ]
    },
    {
      "cell_type": "code",
      "execution_count": 19,
      "metadata": {
        "id": "WcfXGTmonc1C"
      },
      "outputs": [
        {
          "data": {
            "text/plain": [
              "Parking\n",
              "True     1104\n",
              "False     418\n",
              "Name: count, dtype: int64"
            ]
          },
          "execution_count": 19,
          "metadata": {},
          "output_type": "execute_result"
        }
      ],
      "source": [
        "df[df['Area'] <= 85]['Parking'].value_counts()"
      ]
    },
    {
      "cell_type": "code",
      "execution_count": 20,
      "metadata": {
        "id": "9J6x4jV_nc1D"
      },
      "outputs": [
        {
          "data": {
            "text/plain": [
              "array(['Shahran', 'Pardis', 'Shahrake Qods', 'Shahrake Gharb',\n",
              "       'North Program Organization', 'Andisheh', 'West Ferdows Boulevard',\n",
              "       'Narmak', 'Saadat Abad', 'Zafar', 'Islamshahr', 'Pirouzi',\n",
              "       'Shahrake Shahid Bagheri', 'Moniriyeh', 'Velenjak', 'Amirieh',\n",
              "       'Southern Janatabad', 'Salsabil', 'Zargandeh', 'Feiz Garden',\n",
              "       'Water Organization', 'ShahrAra', 'Gisha', 'Ray', 'Abbasabad',\n",
              "       'Ostad Moein', 'Farmanieh', 'Parand', 'Punak', 'Qasr-od-Dasht',\n",
              "       'Aqdasieh', 'Pakdasht', 'Railway', 'Central Janatabad',\n",
              "       'East Ferdows Boulevard', 'Pakdasht KhatunAbad', 'Sattarkhan',\n",
              "       'Baghestan', 'Shahryar', 'Northern Janatabad', 'Daryan No',\n",
              "       'Southern Program Organization', 'Rudhen', 'West Pars', 'Afsarieh',\n",
              "       'Marzdaran', 'Dorous', 'Sadeghieh', 'Chahardangeh', 'Baqershahr',\n",
              "       'Jeyhoon', 'Lavizan', 'Shams Abad', 'Fatemi',\n",
              "       'Keshavarz Boulevard', 'Kahrizak', 'Qarchak',\n",
              "       'Northren Jamalzadeh', 'Azarbaijan', 'Bahar',\n",
              "       'Persian Gulf Martyrs Lake', 'Beryanak', 'Heshmatieh',\n",
              "       'Elm-o-Sanat', 'Golestan', 'Shahr-e-Ziba', 'Pasdaran',\n",
              "       'Chardivari', 'Gheitarieh', 'Kamranieh', 'Gholhak', 'Heravi',\n",
              "       'Hashemi', 'Dehkade Olampic', 'Damavand', 'Republic', 'Zaferanieh',\n",
              "       'Qazvin Imamzadeh Hassan', 'Niavaran', 'Valiasr', 'Qalandari',\n",
              "       'Amir Bahador', 'Ekhtiarieh', 'Ekbatan', 'Absard', 'Haft Tir',\n",
              "       'Mahallati', 'Ozgol', 'Tajrish', 'Abazar', 'Koohsar', 'Hekmat',\n",
              "       'Parastar', 'Lavasan', 'Majidieh', 'Southern Chitgar', 'Karimkhan',\n",
              "       'Si Metri Ji', 'Karoon', 'Northern Chitgar', 'East Pars', 'Kook',\n",
              "       'Air force', 'Sohanak', 'Komeil', 'Azadshahr', 'Zibadasht',\n",
              "       'Amirabad', 'Dezashib', 'Elahieh', 'Mirdamad', 'Razi', 'Jordan',\n",
              "       'Mahmoudieh', 'Shahedshahr', 'Yaftabad', 'Mehran', 'Nasim Shahr',\n",
              "       'Tenant', 'Chardangeh', 'Fallah', 'Eskandari', 'Shahrakeh Naft',\n",
              "       'Ajudaniye', 'Tehransar', 'Nawab', 'Yousef Abad',\n",
              "       'Northern Suhrawardi', 'Villa', 'Hakimiyeh', 'Nezamabad',\n",
              "       'Garden of Saba', 'Tarasht', 'Azari', 'Shahrake Apadana', 'Araj',\n",
              "       'Vahidieh', 'Malard', 'Shahrake Azadi', 'Darband', 'Vanak',\n",
              "       'Tehran Now', 'Darabad', 'Eram', 'Atabak', 'Sabalan', 'SabaShahr',\n",
              "       'Shahrake Madaen', 'Waterfall', 'Ahang', 'Salehabad', 'Pishva',\n",
              "       'Enghelab', 'Islamshahr Elahieh', 'Ray - Montazeri',\n",
              "       'Firoozkooh Kuhsar', 'Ghoba', 'Mehrabad', 'Southern Suhrawardi',\n",
              "       'Abuzar', 'Dolatabad', 'Hor Square', 'Taslihat', 'Kazemabad',\n",
              "       'Robat Karim', 'Ray - Pilgosh', 'Ghiyamdasht', 'Telecommunication',\n",
              "       'Mirza Shirazi', 'Gandhi', 'Argentina', 'Seyed Khandan',\n",
              "       'Shahrake Quds', 'Safadasht', 'Khademabad Garden', 'Hassan Abad',\n",
              "       'Chidz', 'Khavaran', 'Boloorsazi', 'Mehrabad River River',\n",
              "       'Varamin - Beheshti', 'Shoosh', 'Thirteen November', 'Darakeh',\n",
              "       'Aliabad South', 'Alborz Complex', 'Firoozkooh', 'Vahidiyeh',\n",
              "       'Shadabad', 'Naziabad', 'Javadiyeh', 'Yakhchiabad'], dtype=object)"
            ]
          },
          "execution_count": 20,
          "metadata": {},
          "output_type": "execute_result"
        }
      ],
      "source": [
        "df['Address'].unique()"
      ]
    },
    {
      "cell_type": "code",
      "execution_count": 21,
      "metadata": {
        "id": "_hwZu0dnnc1G"
      },
      "outputs": [
        {
          "data": {
            "text/plain": [
              "192"
            ]
          },
          "execution_count": 21,
          "metadata": {},
          "output_type": "execute_result"
        }
      ],
      "source": [
        "len(df['Address'].unique())"
      ]
    },
    {
      "cell_type": "code",
      "execution_count": 22,
      "metadata": {
        "id": "aVF8cWIhnc1H"
      },
      "outputs": [
        {
          "data": {
            "text/plain": [
              "Room\n",
              "0    7.860500e+09\n",
              "1    1.707481e+09\n",
              "2    3.330303e+09\n",
              "3    1.093869e+10\n",
              "4    2.560033e+10\n",
              "5    3.373439e+10\n",
              "Name: Price, dtype: float64"
            ]
          },
          "execution_count": 22,
          "metadata": {},
          "output_type": "execute_result"
        }
      ],
      "source": [
        "df.groupby('Room')['Price'].mean()"
      ]
    },
    {
      "cell_type": "code",
      "execution_count": 23,
      "metadata": {
        "id": "f2C0L-rFnc1J"
      },
      "outputs": [],
      "source": [
        "pd.set_option('display.float_format', lambda x: '%.f' % x)"
      ]
    },
    {
      "cell_type": "code",
      "execution_count": 24,
      "metadata": {
        "id": "mqaiHJVsnc1M"
      },
      "outputs": [
        {
          "data": {
            "text/html": [
              "<div>\n",
              "<style scoped>\n",
              "    .dataframe tbody tr th:only-of-type {\n",
              "        vertical-align: middle;\n",
              "    }\n",
              "\n",
              "    .dataframe tbody tr th {\n",
              "        vertical-align: top;\n",
              "    }\n",
              "\n",
              "    .dataframe thead th {\n",
              "        text-align: right;\n",
              "    }\n",
              "</style>\n",
              "<table border=\"1\" class=\"dataframe\">\n",
              "  <thead>\n",
              "    <tr style=\"text-align: right;\">\n",
              "      <th></th>\n",
              "      <th>Room</th>\n",
              "      <th>Parking</th>\n",
              "      <th>Price</th>\n",
              "    </tr>\n",
              "  </thead>\n",
              "  <tbody>\n",
              "    <tr>\n",
              "      <th>0</th>\n",
              "      <td>0</td>\n",
              "      <td>False</td>\n",
              "      <td>9769750000</td>\n",
              "    </tr>\n",
              "    <tr>\n",
              "      <th>1</th>\n",
              "      <td>0</td>\n",
              "      <td>True</td>\n",
              "      <td>223500000</td>\n",
              "    </tr>\n",
              "    <tr>\n",
              "      <th>2</th>\n",
              "      <td>1</td>\n",
              "      <td>False</td>\n",
              "      <td>1139677778</td>\n",
              "    </tr>\n",
              "    <tr>\n",
              "      <th>3</th>\n",
              "      <td>1</td>\n",
              "      <td>True</td>\n",
              "      <td>2031368545</td>\n",
              "    </tr>\n",
              "    <tr>\n",
              "      <th>4</th>\n",
              "      <td>2</td>\n",
              "      <td>False</td>\n",
              "      <td>1501674180</td>\n",
              "    </tr>\n",
              "    <tr>\n",
              "      <th>5</th>\n",
              "      <td>2</td>\n",
              "      <td>True</td>\n",
              "      <td>3592919541</td>\n",
              "    </tr>\n",
              "    <tr>\n",
              "      <th>6</th>\n",
              "      <td>3</td>\n",
              "      <td>False</td>\n",
              "      <td>5107865385</td>\n",
              "    </tr>\n",
              "    <tr>\n",
              "      <th>7</th>\n",
              "      <td>3</td>\n",
              "      <td>True</td>\n",
              "      <td>11153730496</td>\n",
              "    </tr>\n",
              "    <tr>\n",
              "      <th>8</th>\n",
              "      <td>4</td>\n",
              "      <td>False</td>\n",
              "      <td>6200000000</td>\n",
              "    </tr>\n",
              "    <tr>\n",
              "      <th>9</th>\n",
              "      <td>4</td>\n",
              "      <td>True</td>\n",
              "      <td>25881492754</td>\n",
              "    </tr>\n",
              "    <tr>\n",
              "      <th>10</th>\n",
              "      <td>5</td>\n",
              "      <td>False</td>\n",
              "      <td>9999000000</td>\n",
              "    </tr>\n",
              "    <tr>\n",
              "      <th>11</th>\n",
              "      <td>5</td>\n",
              "      <td>True</td>\n",
              "      <td>37972857143</td>\n",
              "    </tr>\n",
              "  </tbody>\n",
              "</table>\n",
              "</div>"
            ],
            "text/plain": [
              "    Room  Parking       Price\n",
              "0      0    False  9769750000\n",
              "1      0     True   223500000\n",
              "2      1    False  1139677778\n",
              "3      1     True  2031368545\n",
              "4      2    False  1501674180\n",
              "5      2     True  3592919541\n",
              "6      3    False  5107865385\n",
              "7      3     True 11153730496\n",
              "8      4    False  6200000000\n",
              "9      4     True 25881492754\n",
              "10     5    False  9999000000\n",
              "11     5     True 37972857143"
            ]
          },
          "execution_count": 24,
          "metadata": {},
          "output_type": "execute_result"
        }
      ],
      "source": [
        "room_parking_room_mean_df = df.groupby( ['Room','Parking'] )['Price'].mean().reset_index()\n",
        "room_parking_room_mean_df"
      ]
    },
    {
      "cell_type": "code",
      "execution_count": 25,
      "metadata": {
        "id": "twF9-v0mnc1N"
      },
      "outputs": [],
      "source": [
        "df2 = df.copy()"
      ]
    },
    {
      "cell_type": "code",
      "execution_count": 26,
      "metadata": {
        "id": "WbE6nh0enc1O"
      },
      "outputs": [
        {
          "name": "stderr",
          "output_type": "stream",
          "text": [
            "C:\\Users\\SanCo\\AppData\\Local\\Temp\\ipykernel_2744\\1079997294.py:1: FutureWarning: Setting an item of incompatible dtype is deprecated and will raise in a future error of pandas. Value '['1,850,000,000' '1,850,000,000' '550,000,000' ... '365,000,000'\n",
            " '5,600,000,000' '360,000,000']' has dtype incompatible with int64, please explicitly cast to a compatible dtype first.\n",
            "  df2.loc[:, \"Price\"] =df[\"Price\"].apply('{:,.0f}'.format)\n"
          ]
        }
      ],
      "source": [
        "df2.loc[:, \"Price\"] =df[\"Price\"].apply('{:,.0f}'.format)"
      ]
    },
    {
      "cell_type": "code",
      "execution_count": 27,
      "metadata": {
        "id": "GN2XYhevnc1Q"
      },
      "outputs": [
        {
          "data": {
            "text/html": [
              "<div>\n",
              "<style scoped>\n",
              "    .dataframe tbody tr th:only-of-type {\n",
              "        vertical-align: middle;\n",
              "    }\n",
              "\n",
              "    .dataframe tbody tr th {\n",
              "        vertical-align: top;\n",
              "    }\n",
              "\n",
              "    .dataframe thead th {\n",
              "        text-align: right;\n",
              "    }\n",
              "</style>\n",
              "<table border=\"1\" class=\"dataframe\">\n",
              "  <thead>\n",
              "    <tr style=\"text-align: right;\">\n",
              "      <th></th>\n",
              "      <th>Area</th>\n",
              "      <th>Room</th>\n",
              "      <th>Parking</th>\n",
              "      <th>Warehouse</th>\n",
              "      <th>Elevator</th>\n",
              "      <th>Address</th>\n",
              "      <th>Price</th>\n",
              "      <th>Price(USD)</th>\n",
              "    </tr>\n",
              "  </thead>\n",
              "  <tbody>\n",
              "    <tr>\n",
              "      <th>0</th>\n",
              "      <td>63</td>\n",
              "      <td>1</td>\n",
              "      <td>True</td>\n",
              "      <td>True</td>\n",
              "      <td>True</td>\n",
              "      <td>Shahran</td>\n",
              "      <td>1,850,000,000</td>\n",
              "      <td>61667</td>\n",
              "    </tr>\n",
              "    <tr>\n",
              "      <th>1</th>\n",
              "      <td>60</td>\n",
              "      <td>1</td>\n",
              "      <td>True</td>\n",
              "      <td>True</td>\n",
              "      <td>True</td>\n",
              "      <td>Shahran</td>\n",
              "      <td>1,850,000,000</td>\n",
              "      <td>61667</td>\n",
              "    </tr>\n",
              "    <tr>\n",
              "      <th>2</th>\n",
              "      <td>79</td>\n",
              "      <td>2</td>\n",
              "      <td>True</td>\n",
              "      <td>True</td>\n",
              "      <td>True</td>\n",
              "      <td>Pardis</td>\n",
              "      <td>550,000,000</td>\n",
              "      <td>18333</td>\n",
              "    </tr>\n",
              "    <tr>\n",
              "      <th>3</th>\n",
              "      <td>95</td>\n",
              "      <td>2</td>\n",
              "      <td>True</td>\n",
              "      <td>True</td>\n",
              "      <td>True</td>\n",
              "      <td>Shahrake Qods</td>\n",
              "      <td>902,500,000</td>\n",
              "      <td>30083</td>\n",
              "    </tr>\n",
              "    <tr>\n",
              "      <th>4</th>\n",
              "      <td>123</td>\n",
              "      <td>2</td>\n",
              "      <td>True</td>\n",
              "      <td>True</td>\n",
              "      <td>True</td>\n",
              "      <td>Shahrake Gharb</td>\n",
              "      <td>7,000,000,000</td>\n",
              "      <td>233333</td>\n",
              "    </tr>\n",
              "    <tr>\n",
              "      <th>...</th>\n",
              "      <td>...</td>\n",
              "      <td>...</td>\n",
              "      <td>...</td>\n",
              "      <td>...</td>\n",
              "      <td>...</td>\n",
              "      <td>...</td>\n",
              "      <td>...</td>\n",
              "      <td>...</td>\n",
              "    </tr>\n",
              "    <tr>\n",
              "      <th>3474</th>\n",
              "      <td>86</td>\n",
              "      <td>2</td>\n",
              "      <td>True</td>\n",
              "      <td>True</td>\n",
              "      <td>True</td>\n",
              "      <td>Southern Janatabad</td>\n",
              "      <td>3,500,000,000</td>\n",
              "      <td>116667</td>\n",
              "    </tr>\n",
              "    <tr>\n",
              "      <th>3475</th>\n",
              "      <td>83</td>\n",
              "      <td>2</td>\n",
              "      <td>True</td>\n",
              "      <td>True</td>\n",
              "      <td>True</td>\n",
              "      <td>Niavaran</td>\n",
              "      <td>6,800,000,000</td>\n",
              "      <td>226667</td>\n",
              "    </tr>\n",
              "    <tr>\n",
              "      <th>3476</th>\n",
              "      <td>75</td>\n",
              "      <td>2</td>\n",
              "      <td>False</td>\n",
              "      <td>False</td>\n",
              "      <td>False</td>\n",
              "      <td>Parand</td>\n",
              "      <td>365,000,000</td>\n",
              "      <td>12167</td>\n",
              "    </tr>\n",
              "    <tr>\n",
              "      <th>3477</th>\n",
              "      <td>105</td>\n",
              "      <td>2</td>\n",
              "      <td>True</td>\n",
              "      <td>True</td>\n",
              "      <td>True</td>\n",
              "      <td>Dorous</td>\n",
              "      <td>5,600,000,000</td>\n",
              "      <td>186667</td>\n",
              "    </tr>\n",
              "    <tr>\n",
              "      <th>3478</th>\n",
              "      <td>82</td>\n",
              "      <td>2</td>\n",
              "      <td>False</td>\n",
              "      <td>True</td>\n",
              "      <td>True</td>\n",
              "      <td>Parand</td>\n",
              "      <td>360,000,000</td>\n",
              "      <td>12000</td>\n",
              "    </tr>\n",
              "  </tbody>\n",
              "</table>\n",
              "<p>3456 rows × 8 columns</p>\n",
              "</div>"
            ],
            "text/plain": [
              "      Area  Room  Parking  Warehouse  Elevator             Address  \\\n",
              "0       63     1     True       True      True             Shahran   \n",
              "1       60     1     True       True      True             Shahran   \n",
              "2       79     2     True       True      True              Pardis   \n",
              "3       95     2     True       True      True       Shahrake Qods   \n",
              "4      123     2     True       True      True      Shahrake Gharb   \n",
              "...    ...   ...      ...        ...       ...                 ...   \n",
              "3474    86     2     True       True      True  Southern Janatabad   \n",
              "3475    83     2     True       True      True            Niavaran   \n",
              "3476    75     2    False      False     False              Parand   \n",
              "3477   105     2     True       True      True              Dorous   \n",
              "3478    82     2    False       True      True              Parand   \n",
              "\n",
              "              Price  Price(USD)  \n",
              "0     1,850,000,000       61667  \n",
              "1     1,850,000,000       61667  \n",
              "2       550,000,000       18333  \n",
              "3       902,500,000       30083  \n",
              "4     7,000,000,000      233333  \n",
              "...             ...         ...  \n",
              "3474  3,500,000,000      116667  \n",
              "3475  6,800,000,000      226667  \n",
              "3476    365,000,000       12167  \n",
              "3477  5,600,000,000      186667  \n",
              "3478    360,000,000       12000  \n",
              "\n",
              "[3456 rows x 8 columns]"
            ]
          },
          "execution_count": 27,
          "metadata": {},
          "output_type": "execute_result"
        }
      ],
      "source": [
        "df2"
      ]
    },
    {
      "cell_type": "markdown",
      "metadata": {
        "id": "b6G4KmJLnc1S"
      },
      "source": [
        "# Visualization"
      ]
    },
    {
      "cell_type": "code",
      "execution_count": 113,
      "metadata": {},
      "outputs": [
        {
          "data": {
            "image/png": "[encoded data removed]",
            "text/plain": [
              "<Figure size 800x500 with 1 Axes>"
            ]
          },
          "metadata": {},
          "output_type": "display_data"
        }
      ],
      "source": [
        "# price distribution with KDE (Kernel Density Estimation)\n",
        "plt.figure(figsize=(8, 5))\n",
        "sns.histplot(df['Price'], bins=30, kde=True,\n",
        "             color='royalblue', edgecolor='black', linewidth=1.2)  \n",
        "plt.title('Distribution of House Prices in Tehran')\n",
        "plt.xlabel('Price (Milyard Toman)') \n",
        "plt.ylabel('Frequency')\n",
        "\n",
        "plt.grid(axis='y', alpha=0.3)\n",
        "plt.tight_layout()  \n",
        "plt.show()"
      ]
    },
    {
      "cell_type": "code",
      "execution_count": 119,
      "metadata": {},
      "outputs": [
        {
          "data": {
            "image/png": "[encoded data removed]",
            "text/plain": [
              "<Figure size 800x500 with 2 Axes>"
            ]
          },
          "metadata": {},
          "output_type": "display_data"
        }
      ],
      "source": [
        "# Generate correlation heatmap for numerical features\n",
        "plt.figure(figsize=(8, 5)) \n",
        "\n",
        "# Create heatmap with enhanced parameters\n",
        "heatmap = sns.heatmap(df.select_dtypes(exclude=['object']).corr(), annot=True, cmap=\"BuGn\")\n",
        "\n",
        "plt.title('Correlation Matrix of Numerical Features\\n')\n",
        "plt.show()"
      ]
    },
    {
      "cell_type": "code",
      "execution_count": 121,
      "metadata": {
        "id": "RBgpmudcnc1g"
      },
      "outputs": [
        {
          "data": {
            "image/png": "[encoded data removed]",
            "text/plain": [
              "<Figure size 1800x600 with 3 Axes>"
            ]
          },
          "metadata": {},
          "output_type": "display_data"
        }
      ],
      "source": [
        "# Pie charts showing percentage and count of properties with parking, warehouse, and elevator\n",
        "fig, ax = plt.subplots(ncols=3, figsize=(18,6))\n",
        "\n",
        "colors = [['#799EFF', '#113F67'],\n",
        "          ['#67AE6E', '#004030'],\n",
        "          ['#F49BAB', '#7D1C4A']]\n",
        "explode = [0, 0.2]\n",
        "columns = ['Parking', 'Warehouse', 'Elevator']\n",
        "for i in range(3):\n",
        "        data = df[columns[i]].value_counts()\n",
        "        ax[i].pie(data, labels=data.values, explode=explode, colors=colors[i], shadow=True, autopct='%1.1f%%')\n",
        "        ax[i].legend(labels=data.index, fontsize='large')\n",
        "        ax[i].set_title('{} Availability distribution'.format(columns[i]))"
      ]
    },
    {
      "cell_type": "code",
      "execution_count": 33,
      "metadata": {
        "id": "N3P75Dnxnc1k"
      },
      "outputs": [],
      "source": [
        "df3 = df['Address'].value_counts().copy()\n",
        "df3 = df3[:8]"
      ]
    },
    {
      "cell_type": "code",
      "execution_count": 34,
      "metadata": {
        "id": "MtmyxHAqnc1m"
      },
      "outputs": [
        {
          "data": {
            "text/plain": [
              "Address\n",
              "Punak                     161\n",
              "Pardis                    146\n",
              "West Ferdows Boulevard    145\n",
              "Gheitarieh                141\n",
              "Shahran                   130\n",
              "Name: count, dtype: int64"
            ]
          },
          "execution_count": 34,
          "metadata": {},
          "output_type": "execute_result"
        }
      ],
      "source": [
        "df['Address'].value_counts().head()"
      ]
    },
    {
      "cell_type": "code",
      "execution_count": 35,
      "metadata": {
        "id": "KxrW8_S0nc1p"
      },
      "outputs": [
        {
          "data": {
            "text/html": [
              "<div>\n",
              "<style scoped>\n",
              "    .dataframe tbody tr th:only-of-type {\n",
              "        vertical-align: middle;\n",
              "    }\n",
              "\n",
              "    .dataframe tbody tr th {\n",
              "        vertical-align: top;\n",
              "    }\n",
              "\n",
              "    .dataframe thead th {\n",
              "        text-align: right;\n",
              "    }\n",
              "</style>\n",
              "<table border=\"1\" class=\"dataframe\">\n",
              "  <thead>\n",
              "    <tr style=\"text-align: right;\">\n",
              "      <th></th>\n",
              "      <th>Area</th>\n",
              "      <th>Room</th>\n",
              "      <th>Parking</th>\n",
              "      <th>Warehouse</th>\n",
              "      <th>Elevator</th>\n",
              "      <th>Address</th>\n",
              "      <th>Price</th>\n",
              "      <th>Price(USD)</th>\n",
              "    </tr>\n",
              "  </thead>\n",
              "  <tbody>\n",
              "    <tr>\n",
              "      <th>1707</th>\n",
              "      <td>420</td>\n",
              "      <td>4</td>\n",
              "      <td>True</td>\n",
              "      <td>True</td>\n",
              "      <td>True</td>\n",
              "      <td>Zaferanieh</td>\n",
              "      <td>92400000000</td>\n",
              "      <td>3080000</td>\n",
              "    </tr>\n",
              "    <tr>\n",
              "      <th>1810</th>\n",
              "      <td>705</td>\n",
              "      <td>5</td>\n",
              "      <td>True</td>\n",
              "      <td>True</td>\n",
              "      <td>False</td>\n",
              "      <td>Abazar</td>\n",
              "      <td>91000000000</td>\n",
              "      <td>3033333</td>\n",
              "    </tr>\n",
              "    <tr>\n",
              "      <th>430</th>\n",
              "      <td>400</td>\n",
              "      <td>5</td>\n",
              "      <td>True</td>\n",
              "      <td>True</td>\n",
              "      <td>False</td>\n",
              "      <td>Lavasan</td>\n",
              "      <td>85000000000</td>\n",
              "      <td>2833333</td>\n",
              "    </tr>\n",
              "    <tr>\n",
              "      <th>819</th>\n",
              "      <td>680</td>\n",
              "      <td>5</td>\n",
              "      <td>True</td>\n",
              "      <td>True</td>\n",
              "      <td>False</td>\n",
              "      <td>Ekhtiarieh</td>\n",
              "      <td>81600000000</td>\n",
              "      <td>2720000</td>\n",
              "    </tr>\n",
              "    <tr>\n",
              "      <th>1332</th>\n",
              "      <td>350</td>\n",
              "      <td>4</td>\n",
              "      <td>True</td>\n",
              "      <td>True</td>\n",
              "      <td>True</td>\n",
              "      <td>Niavaran</td>\n",
              "      <td>80500000000</td>\n",
              "      <td>2683333</td>\n",
              "    </tr>\n",
              "    <tr>\n",
              "      <th>...</th>\n",
              "      <td>...</td>\n",
              "      <td>...</td>\n",
              "      <td>...</td>\n",
              "      <td>...</td>\n",
              "      <td>...</td>\n",
              "      <td>...</td>\n",
              "      <td>...</td>\n",
              "      <td>...</td>\n",
              "    </tr>\n",
              "    <tr>\n",
              "      <th>2201</th>\n",
              "      <td>49</td>\n",
              "      <td>1</td>\n",
              "      <td>True</td>\n",
              "      <td>True</td>\n",
              "      <td>False</td>\n",
              "      <td>Andisheh</td>\n",
              "      <td>110000000</td>\n",
              "      <td>3667</td>\n",
              "    </tr>\n",
              "    <tr>\n",
              "      <th>2721</th>\n",
              "      <td>110</td>\n",
              "      <td>0</td>\n",
              "      <td>True</td>\n",
              "      <td>True</td>\n",
              "      <td>True</td>\n",
              "      <td>Parand</td>\n",
              "      <td>102000000</td>\n",
              "      <td>3400</td>\n",
              "    </tr>\n",
              "    <tr>\n",
              "      <th>731</th>\n",
              "      <td>75</td>\n",
              "      <td>2</td>\n",
              "      <td>True</td>\n",
              "      <td>True</td>\n",
              "      <td>True</td>\n",
              "      <td>Pardis</td>\n",
              "      <td>60000000</td>\n",
              "      <td>2000</td>\n",
              "    </tr>\n",
              "    <tr>\n",
              "      <th>2770</th>\n",
              "      <td>83</td>\n",
              "      <td>2</td>\n",
              "      <td>True</td>\n",
              "      <td>True</td>\n",
              "      <td>True</td>\n",
              "      <td>Ozgol</td>\n",
              "      <td>55000000</td>\n",
              "      <td>1833</td>\n",
              "    </tr>\n",
              "    <tr>\n",
              "      <th>136</th>\n",
              "      <td>160</td>\n",
              "      <td>1</td>\n",
              "      <td>False</td>\n",
              "      <td>False</td>\n",
              "      <td>False</td>\n",
              "      <td>Qarchak</td>\n",
              "      <td>3600000</td>\n",
              "      <td>120</td>\n",
              "    </tr>\n",
              "  </tbody>\n",
              "</table>\n",
              "<p>3456 rows × 8 columns</p>\n",
              "</div>"
            ],
            "text/plain": [
              "      Area  Room  Parking  Warehouse  Elevator     Address        Price  \\\n",
              "1707   420     4     True       True      True  Zaferanieh  92400000000   \n",
              "1810   705     5     True       True     False      Abazar  91000000000   \n",
              "430    400     5     True       True     False     Lavasan  85000000000   \n",
              "819    680     5     True       True     False  Ekhtiarieh  81600000000   \n",
              "1332   350     4     True       True      True    Niavaran  80500000000   \n",
              "...    ...   ...      ...        ...       ...         ...          ...   \n",
              "2201    49     1     True       True     False    Andisheh    110000000   \n",
              "2721   110     0     True       True      True      Parand    102000000   \n",
              "731     75     2     True       True      True      Pardis     60000000   \n",
              "2770    83     2     True       True      True       Ozgol     55000000   \n",
              "136    160     1    False      False     False     Qarchak      3600000   \n",
              "\n",
              "      Price(USD)  \n",
              "1707     3080000  \n",
              "1810     3033333  \n",
              "430      2833333  \n",
              "819      2720000  \n",
              "1332     2683333  \n",
              "...          ...  \n",
              "2201        3667  \n",
              "2721        3400  \n",
              "731         2000  \n",
              "2770        1833  \n",
              "136          120  \n",
              "\n",
              "[3456 rows x 8 columns]"
            ]
          },
          "execution_count": 35,
          "metadata": {},
          "output_type": "execute_result"
        }
      ],
      "source": [
        "df.sort_values('Price' , ascending=False)"
      ]
    },
    {
      "cell_type": "code",
      "execution_count": 36,
      "metadata": {
        "id": "jP0ed5fGnc1s"
      },
      "outputs": [
        {
          "data": {
            "text/html": [
              "<div>\n",
              "<style scoped>\n",
              "    .dataframe tbody tr th:only-of-type {\n",
              "        vertical-align: middle;\n",
              "    }\n",
              "\n",
              "    .dataframe tbody tr th {\n",
              "        vertical-align: top;\n",
              "    }\n",
              "\n",
              "    .dataframe thead th {\n",
              "        text-align: right;\n",
              "    }\n",
              "</style>\n",
              "<table border=\"1\" class=\"dataframe\">\n",
              "  <thead>\n",
              "    <tr style=\"text-align: right;\">\n",
              "      <th></th>\n",
              "      <th>Address</th>\n",
              "    </tr>\n",
              "  </thead>\n",
              "  <tbody>\n",
              "    <tr>\n",
              "      <th>1707</th>\n",
              "      <td>Zaferanieh</td>\n",
              "    </tr>\n",
              "    <tr>\n",
              "      <th>1810</th>\n",
              "      <td>Abazar</td>\n",
              "    </tr>\n",
              "    <tr>\n",
              "      <th>430</th>\n",
              "      <td>Lavasan</td>\n",
              "    </tr>\n",
              "    <tr>\n",
              "      <th>819</th>\n",
              "      <td>Ekhtiarieh</td>\n",
              "    </tr>\n",
              "    <tr>\n",
              "      <th>1332</th>\n",
              "      <td>Niavaran</td>\n",
              "    </tr>\n",
              "    <tr>\n",
              "      <th>1694</th>\n",
              "      <td>Zafar</td>\n",
              "    </tr>\n",
              "    <tr>\n",
              "      <th>3051</th>\n",
              "      <td>Dorous</td>\n",
              "    </tr>\n",
              "    <tr>\n",
              "      <th>3107</th>\n",
              "      <td>Tajrish</td>\n",
              "    </tr>\n",
              "    <tr>\n",
              "      <th>831</th>\n",
              "      <td>Mahmoudieh</td>\n",
              "    </tr>\n",
              "    <tr>\n",
              "      <th>2394</th>\n",
              "      <td>Aqdasieh</td>\n",
              "    </tr>\n",
              "    <tr>\n",
              "      <th>2194</th>\n",
              "      <td>Niavaran</td>\n",
              "    </tr>\n",
              "    <tr>\n",
              "      <th>2706</th>\n",
              "      <td>Gandhi</td>\n",
              "    </tr>\n",
              "    <tr>\n",
              "      <th>1863</th>\n",
              "      <td>Elahieh</td>\n",
              "    </tr>\n",
              "    <tr>\n",
              "      <th>1407</th>\n",
              "      <td>North Program Organization</td>\n",
              "    </tr>\n",
              "    <tr>\n",
              "      <th>1635</th>\n",
              "      <td>Vanak</td>\n",
              "    </tr>\n",
              "    <tr>\n",
              "      <th>1270</th>\n",
              "      <td>Mirdamad</td>\n",
              "    </tr>\n",
              "    <tr>\n",
              "      <th>440</th>\n",
              "      <td>Niavaran</td>\n",
              "    </tr>\n",
              "    <tr>\n",
              "      <th>464</th>\n",
              "      <td>Farmanieh</td>\n",
              "    </tr>\n",
              "    <tr>\n",
              "      <th>431</th>\n",
              "      <td>Lavasan</td>\n",
              "    </tr>\n",
              "    <tr>\n",
              "      <th>583</th>\n",
              "      <td>Niavaran</td>\n",
              "    </tr>\n",
              "  </tbody>\n",
              "</table>\n",
              "</div>"
            ],
            "text/plain": [
              "                         Address\n",
              "1707                  Zaferanieh\n",
              "1810                      Abazar\n",
              "430                      Lavasan\n",
              "819                   Ekhtiarieh\n",
              "1332                    Niavaran\n",
              "1694                       Zafar\n",
              "3051                      Dorous\n",
              "3107                     Tajrish\n",
              "831                   Mahmoudieh\n",
              "2394                    Aqdasieh\n",
              "2194                    Niavaran\n",
              "2706                      Gandhi\n",
              "1863                     Elahieh\n",
              "1407  North Program Organization\n",
              "1635                       Vanak\n",
              "1270                    Mirdamad\n",
              "440                     Niavaran\n",
              "464                    Farmanieh\n",
              "431                      Lavasan\n",
              "583                     Niavaran"
            ]
          },
          "execution_count": 36,
          "metadata": {},
          "output_type": "execute_result"
        }
      ],
      "source": [
        "df.sort_values('Price' , ascending=False)[['Address']].head(20)"
      ]
    },
    {
      "cell_type": "markdown",
      "metadata": {},
      "source": [
        "# Preprocessing"
      ]
    },
    {
      "cell_type": "code",
      "execution_count": 37,
      "metadata": {
        "id": "1NO34adInc1v"
      },
      "outputs": [],
      "source": [
        "df = df.drop('Price(USD)' ,axis=1)"
      ]
    },
    {
      "cell_type": "code",
      "execution_count": 39,
      "metadata": {
        "id": "QBVhWkkOnc1y"
      },
      "outputs": [
        {
          "data": {
            "text/html": [
              "<div>\n",
              "<style scoped>\n",
              "    .dataframe tbody tr th:only-of-type {\n",
              "        vertical-align: middle;\n",
              "    }\n",
              "\n",
              "    .dataframe tbody tr th {\n",
              "        vertical-align: top;\n",
              "    }\n",
              "\n",
              "    .dataframe thead th {\n",
              "        text-align: right;\n",
              "    }\n",
              "</style>\n",
              "<table border=\"1\" class=\"dataframe\">\n",
              "  <thead>\n",
              "    <tr style=\"text-align: right;\">\n",
              "      <th></th>\n",
              "      <th>Area</th>\n",
              "      <th>Room</th>\n",
              "      <th>Parking</th>\n",
              "      <th>Warehouse</th>\n",
              "      <th>Elevator</th>\n",
              "      <th>Address</th>\n",
              "      <th>Price</th>\n",
              "    </tr>\n",
              "  </thead>\n",
              "  <tbody>\n",
              "    <tr>\n",
              "      <th>0</th>\n",
              "      <td>63</td>\n",
              "      <td>1</td>\n",
              "      <td>1</td>\n",
              "      <td>1</td>\n",
              "      <td>1</td>\n",
              "      <td>Shahran</td>\n",
              "      <td>1850000000</td>\n",
              "    </tr>\n",
              "    <tr>\n",
              "      <th>1</th>\n",
              "      <td>60</td>\n",
              "      <td>1</td>\n",
              "      <td>1</td>\n",
              "      <td>1</td>\n",
              "      <td>1</td>\n",
              "      <td>Shahran</td>\n",
              "      <td>1850000000</td>\n",
              "    </tr>\n",
              "    <tr>\n",
              "      <th>2</th>\n",
              "      <td>79</td>\n",
              "      <td>2</td>\n",
              "      <td>1</td>\n",
              "      <td>1</td>\n",
              "      <td>1</td>\n",
              "      <td>Pardis</td>\n",
              "      <td>550000000</td>\n",
              "    </tr>\n",
              "    <tr>\n",
              "      <th>3</th>\n",
              "      <td>95</td>\n",
              "      <td>2</td>\n",
              "      <td>1</td>\n",
              "      <td>1</td>\n",
              "      <td>1</td>\n",
              "      <td>Shahrake Qods</td>\n",
              "      <td>902500000</td>\n",
              "    </tr>\n",
              "    <tr>\n",
              "      <th>4</th>\n",
              "      <td>123</td>\n",
              "      <td>2</td>\n",
              "      <td>1</td>\n",
              "      <td>1</td>\n",
              "      <td>1</td>\n",
              "      <td>Shahrake Gharb</td>\n",
              "      <td>7000000000</td>\n",
              "    </tr>\n",
              "  </tbody>\n",
              "</table>\n",
              "</div>"
            ],
            "text/plain": [
              "   Area  Room  Parking  Warehouse  Elevator         Address       Price\n",
              "0    63     1        1          1         1         Shahran  1850000000\n",
              "1    60     1        1          1         1         Shahran  1850000000\n",
              "2    79     2        1          1         1          Pardis   550000000\n",
              "3    95     2        1          1         1   Shahrake Qods   902500000\n",
              "4   123     2        1          1         1  Shahrake Gharb  7000000000"
            ]
          },
          "execution_count": 39,
          "metadata": {},
          "output_type": "execute_result"
        }
      ],
      "source": [
        "# Convert boolean features (True/False) to integers (1/0) for analysis\n",
        "boolean_features = ['Parking' , 'Warehouse' , 'Elevator']\n",
        "df[boolean_features] = df[boolean_features].astype('int64')\n",
        "df.head()"
      ]
    },
    {
      "cell_type": "code",
      "execution_count": 124,
      "metadata": {},
      "outputs": [
        {
          "name": "stdout",
          "output_type": "stream",
          "text": [
            "Feature Skewness Analysis:\n",
            "\n",
            "Area        44\n",
            "Room         1\n",
            "Parking     -2\n",
            "Warehouse   -3\n",
            "Elevator    -1\n",
            "Price        5\n",
            "dtype: float64\n"
          ]
        }
      ],
      "source": [
        "# Calculate and display skewness for all numeric features\n",
        "numeric_skew = df.select_dtypes(include=['int', 'float']).skew()\n",
        "print(\"Feature Skewness Analysis:\\n\")\n",
        "print(numeric_skew)"
      ]
    },
    {
      "cell_type": "code",
      "execution_count": 41,
      "metadata": {
        "id": "z_PoxOrhnc11"
      },
      "outputs": [
        {
          "data": {
            "text/plain": [
              "<Axes: xlabel='Price'>"
            ]
          },
          "execution_count": 41,
          "metadata": {},
          "output_type": "execute_result"
        },
        {
          "data": {
            "image/png": "[encoded data removed]",
            "text/plain": [
              "<Figure size 1600x800 with 2 Axes>"
            ]
          },
          "metadata": {},
          "output_type": "display_data"
        }
      ],
      "source": [
        "plt.figure(figsize = (16,8))\n",
        "\n",
        "plt.subplot(2,1,1) #  , شماره_پلات , تعداد_ستونها, تعداد_سطرها\n",
        "sns.boxplot(x = df['Area'])\n",
        "\n",
        "plt.subplot(2,1,2)\n",
        "sns.boxplot(x = df['Price'])\n",
        "\n",
        "# fig, ax = plt.subplots(nrows=2, ncols=1, figsize=(16, 8))\n",
        "\n",
        "# # پلات بالایی\n",
        "# sns.boxplot(x=df['Area'], ax=ax[0])\n",
        "\n",
        "# # پلات پایینی\n",
        "# sns.boxplot(x=df['Price'], ax=ax[1])"
      ]
    },
    {
      "cell_type": "code",
      "execution_count": 42,
      "metadata": {
        "id": "5i0qZB7lnc13"
      },
      "outputs": [],
      "source": [
        "# Function for calculate lower/upper bounds for outlier detection using 1.5*IQR rule\n",
        "def find_lower_Upper(x):\n",
        "    Q1 = x.quantile(0.25)\n",
        "    Q3 = x.quantile(0.75)\n",
        "    # Q1 = np.percentile(x, 25)\n",
        "    # Q3 = np.percentile(x, 75)\n",
        "    IQR = Q3 - Q1\n",
        "    lower = Q1 - 1.5*IQR\n",
        "    upper = Q3 + 1.5*IQR\n",
        "\n",
        "    return lower , upper"
      ]
    },
    {
      "cell_type": "code",
      "execution_count": 43,
      "metadata": {
        "id": "z0HesNsJnc15"
      },
      "outputs": [],
      "source": [
        "# Calculate bounds\n",
        "ower_area, upper_area = find_lower_Upper(df['Area'])\n",
        "lower_price , upper_price = find_lower_Upper(df['Price'])"
      ]
    },
    {
      "cell_type": "code",
      "execution_count": 44,
      "metadata": {
        "id": "nNnoXZhZnc16"
      },
      "outputs": [
        {
          "name": "stdout",
          "output_type": "stream",
          "text": [
            "Lower limit for area: -9.00\n",
            "Upper limit for area: 199.00\n",
            "Lower limit for price: -5,450,000,000.0\n",
            "Upper limit for price: 12,870,000,000.0\n"
          ]
        }
      ],
      "source": [
        "print(f\"Lower limit for area: {lower_area:0.2f}\")\n",
        "print(f\"Upper limit for area: {upper_area:0.2f}\")\n",
        "print(f\"Lower limit for price: {lower_price:,}\")\n",
        "print(f\"Upper limit for price: {upper_price:,}\")"
      ]
    },
    {
      "cell_type": "code",
      "execution_count": 45,
      "metadata": {
        "id": "dYSS2J34nc18"
      },
      "outputs": [
        {
          "name": "stdout",
          "output_type": "stream",
          "text": [
            "Number of area outliers: 237\n",
            "Number of price outliers: 310\n",
            "Number of outliers: 366\n"
          ]
        }
      ],
      "source": [
        "area_outliers = np.where(df['Area'] > upper_area)\n",
        "price_outliers = np.where(df['Price'] > upper_price)\n",
        "\n",
        "# Return the unique, sorted array of values that are in either of the two input arrays.\n",
        "total_outliers = np.union1d(area_outliers, price_outliers)\n",
        "\n",
        "print(f\"Number of area outliers: {len(df.iloc[area_outliers])}\")\n",
        "print(f\"Number of price outliers: {len(df.iloc[price_outliers])}\")\n",
        "print(f\"Number of outliers: {len(df.iloc[total_outliers])}\")"
      ]
    },
    {
      "cell_type": "code",
      "execution_count": 46,
      "metadata": {
        "id": "OKNh3Vdunc1-"
      },
      "outputs": [
        {
          "data": {
            "text/plain": [
              "array([  25,   58,   83,  101,  145,  159,  160,  166,  173,  176,  187,\n",
              "        189,  193,  195,  196,  200,  210,  215,  218,  220,  226,  234,\n",
              "        235,  238,  260,  262,  264,  269,  270,  281,  283,  284,  297,\n",
              "        299,  315,  327,  329,  338,  339,  340,  342,  343,  344,  345,\n",
              "        346,  347,  348,  349,  351,  353,  355,  356,  362,  363,  364,\n",
              "        394,  410,  411,  412,  429,  430,  436,  439,  458,  463,  496,\n",
              "        512,  514,  515,  516,  525,  534,  547,  553,  559,  564,  565,\n",
              "        566,  567,  569,  572,  576,  577,  578,  579,  582,  599,  600,\n",
              "        610,  627,  635,  638,  640,  641,  648,  649,  652,  706,  712,\n",
              "        721,  729,  730,  731,  738,  739,  740,  753,  765,  792,  803,\n",
              "        804,  816,  819,  828,  834,  836,  849,  872,  876,  891,  955,\n",
              "        956,  962, 1005, 1006, 1012, 1021, 1022, 1028, 1031, 1033, 1103,\n",
              "       1110, 1114, 1128, 1136, 1137, 1148, 1174, 1175, 1228, 1230, 1231,\n",
              "       1232, 1258, 1260, 1265, 1266, 1270, 1282, 1287, 1305, 1306, 1307,\n",
              "       1308, 1309, 1318, 1323, 1327, 1328, 1337, 1340, 1344, 1345, 1347,\n",
              "       1350, 1352, 1354, 1361, 1384, 1396, 1397, 1401, 1402, 1403, 1410,\n",
              "       1420, 1421, 1422, 1423, 1424, 1428, 1430, 1432, 1433, 1438, 1439,\n",
              "       1458, 1478, 1480, 1483, 1521, 1526, 1529, 1540, 1541, 1546, 1559,\n",
              "       1560, 1562, 1581, 1582, 1585, 1598, 1607, 1619, 1629, 1636, 1638,\n",
              "       1643, 1644, 1646, 1652, 1659, 1676, 1687, 1688, 1694, 1701, 1705,\n",
              "       1715, 1717, 1720, 1734, 1761, 1762, 1772, 1785, 1800, 1803, 1804,\n",
              "       1814, 1820, 1821, 1847, 1851, 1855, 1856, 1861, 1864, 1876, 1878,\n",
              "       1905, 1909, 1911, 1912, 1913, 1924, 1935, 1963, 1966, 1967, 1977,\n",
              "       1978, 1979, 1980, 1982, 1986, 1987, 1988, 1989, 1990, 1995, 1996,\n",
              "       1997, 1999, 2000, 2004, 2007, 2009, 2011, 2013, 2022, 2023, 2025,\n",
              "       2084, 2102, 2133, 2160, 2161, 2168, 2169, 2184, 2226, 2255, 2263,\n",
              "       2264, 2267, 2271, 2303, 2309, 2320, 2323, 2339, 2346, 2349, 2350,\n",
              "       2353, 2356, 2358, 2359, 2360, 2363, 2382, 2383, 2389, 2455, 2463,\n",
              "       2465, 2468, 2489, 2506, 2519, 2548, 2564, 2567, 2571, 2585, 2615,\n",
              "       2627, 2634, 2676, 2680, 2693, 2709, 2765, 2788, 2796, 2836, 2877,\n",
              "       2931, 2946, 2955, 2977, 2986, 3002, 3036, 3041, 3049, 3061, 3073,\n",
              "       3092, 3096, 3100, 3117, 3125, 3167, 3168, 3177, 3197, 3221, 3227,\n",
              "       3237, 3238, 3247, 3250, 3253, 3271, 3306, 3314, 3345, 3352, 3367,\n",
              "       3373, 3415, 3419])"
            ]
          },
          "execution_count": 46,
          "metadata": {},
          "output_type": "execute_result"
        }
      ],
      "source": [
        "total_outliers"
      ]
    },
    {
      "cell_type": "code",
      "execution_count": 47,
      "metadata": {
        "id": "4wfu8S-enc2A"
      },
      "outputs": [
        {
          "data": {
            "text/html": [
              "<div>\n",
              "<style scoped>\n",
              "    .dataframe tbody tr th:only-of-type {\n",
              "        vertical-align: middle;\n",
              "    }\n",
              "\n",
              "    .dataframe tbody tr th {\n",
              "        vertical-align: top;\n",
              "    }\n",
              "\n",
              "    .dataframe thead th {\n",
              "        text-align: right;\n",
              "    }\n",
              "</style>\n",
              "<table border=\"1\" class=\"dataframe\">\n",
              "  <thead>\n",
              "    <tr style=\"text-align: right;\">\n",
              "      <th></th>\n",
              "      <th>Abazar</th>\n",
              "      <th>Abbasabad</th>\n",
              "      <th>Absard</th>\n",
              "      <th>Abuzar</th>\n",
              "      <th>Afsarieh</th>\n",
              "      <th>Ahang</th>\n",
              "      <th>Air force</th>\n",
              "      <th>Ajudaniye</th>\n",
              "      <th>Alborz Complex</th>\n",
              "      <th>Aliabad South</th>\n",
              "      <th>...</th>\n",
              "      <th>Waterfall</th>\n",
              "      <th>West Ferdows Boulevard</th>\n",
              "      <th>West Pars</th>\n",
              "      <th>Yaftabad</th>\n",
              "      <th>Yakhchiabad</th>\n",
              "      <th>Yousef Abad</th>\n",
              "      <th>Zafar</th>\n",
              "      <th>Zaferanieh</th>\n",
              "      <th>Zargandeh</th>\n",
              "      <th>Zibadasht</th>\n",
              "    </tr>\n",
              "  </thead>\n",
              "  <tbody>\n",
              "    <tr>\n",
              "      <th>0</th>\n",
              "      <td>False</td>\n",
              "      <td>False</td>\n",
              "      <td>False</td>\n",
              "      <td>False</td>\n",
              "      <td>False</td>\n",
              "      <td>False</td>\n",
              "      <td>False</td>\n",
              "      <td>False</td>\n",
              "      <td>False</td>\n",
              "      <td>False</td>\n",
              "      <td>...</td>\n",
              "      <td>False</td>\n",
              "      <td>False</td>\n",
              "      <td>False</td>\n",
              "      <td>False</td>\n",
              "      <td>False</td>\n",
              "      <td>False</td>\n",
              "      <td>False</td>\n",
              "      <td>False</td>\n",
              "      <td>False</td>\n",
              "      <td>False</td>\n",
              "    </tr>\n",
              "    <tr>\n",
              "      <th>1</th>\n",
              "      <td>False</td>\n",
              "      <td>False</td>\n",
              "      <td>False</td>\n",
              "      <td>False</td>\n",
              "      <td>False</td>\n",
              "      <td>False</td>\n",
              "      <td>False</td>\n",
              "      <td>False</td>\n",
              "      <td>False</td>\n",
              "      <td>False</td>\n",
              "      <td>...</td>\n",
              "      <td>False</td>\n",
              "      <td>False</td>\n",
              "      <td>False</td>\n",
              "      <td>False</td>\n",
              "      <td>False</td>\n",
              "      <td>False</td>\n",
              "      <td>False</td>\n",
              "      <td>False</td>\n",
              "      <td>False</td>\n",
              "      <td>False</td>\n",
              "    </tr>\n",
              "    <tr>\n",
              "      <th>2</th>\n",
              "      <td>False</td>\n",
              "      <td>False</td>\n",
              "      <td>False</td>\n",
              "      <td>False</td>\n",
              "      <td>False</td>\n",
              "      <td>False</td>\n",
              "      <td>False</td>\n",
              "      <td>False</td>\n",
              "      <td>False</td>\n",
              "      <td>False</td>\n",
              "      <td>...</td>\n",
              "      <td>False</td>\n",
              "      <td>False</td>\n",
              "      <td>False</td>\n",
              "      <td>False</td>\n",
              "      <td>False</td>\n",
              "      <td>False</td>\n",
              "      <td>False</td>\n",
              "      <td>False</td>\n",
              "      <td>False</td>\n",
              "      <td>False</td>\n",
              "    </tr>\n",
              "    <tr>\n",
              "      <th>3</th>\n",
              "      <td>False</td>\n",
              "      <td>False</td>\n",
              "      <td>False</td>\n",
              "      <td>False</td>\n",
              "      <td>False</td>\n",
              "      <td>False</td>\n",
              "      <td>False</td>\n",
              "      <td>False</td>\n",
              "      <td>False</td>\n",
              "      <td>False</td>\n",
              "      <td>...</td>\n",
              "      <td>False</td>\n",
              "      <td>False</td>\n",
              "      <td>False</td>\n",
              "      <td>False</td>\n",
              "      <td>False</td>\n",
              "      <td>False</td>\n",
              "      <td>False</td>\n",
              "      <td>False</td>\n",
              "      <td>False</td>\n",
              "      <td>False</td>\n",
              "    </tr>\n",
              "    <tr>\n",
              "      <th>4</th>\n",
              "      <td>False</td>\n",
              "      <td>False</td>\n",
              "      <td>False</td>\n",
              "      <td>False</td>\n",
              "      <td>False</td>\n",
              "      <td>False</td>\n",
              "      <td>False</td>\n",
              "      <td>False</td>\n",
              "      <td>False</td>\n",
              "      <td>False</td>\n",
              "      <td>...</td>\n",
              "      <td>False</td>\n",
              "      <td>False</td>\n",
              "      <td>False</td>\n",
              "      <td>False</td>\n",
              "      <td>False</td>\n",
              "      <td>False</td>\n",
              "      <td>False</td>\n",
              "      <td>False</td>\n",
              "      <td>False</td>\n",
              "      <td>False</td>\n",
              "    </tr>\n",
              "    <tr>\n",
              "      <th>...</th>\n",
              "      <td>...</td>\n",
              "      <td>...</td>\n",
              "      <td>...</td>\n",
              "      <td>...</td>\n",
              "      <td>...</td>\n",
              "      <td>...</td>\n",
              "      <td>...</td>\n",
              "      <td>...</td>\n",
              "      <td>...</td>\n",
              "      <td>...</td>\n",
              "      <td>...</td>\n",
              "      <td>...</td>\n",
              "      <td>...</td>\n",
              "      <td>...</td>\n",
              "      <td>...</td>\n",
              "      <td>...</td>\n",
              "      <td>...</td>\n",
              "      <td>...</td>\n",
              "      <td>...</td>\n",
              "      <td>...</td>\n",
              "      <td>...</td>\n",
              "    </tr>\n",
              "    <tr>\n",
              "      <th>3474</th>\n",
              "      <td>False</td>\n",
              "      <td>False</td>\n",
              "      <td>False</td>\n",
              "      <td>False</td>\n",
              "      <td>False</td>\n",
              "      <td>False</td>\n",
              "      <td>False</td>\n",
              "      <td>False</td>\n",
              "      <td>False</td>\n",
              "      <td>False</td>\n",
              "      <td>...</td>\n",
              "      <td>False</td>\n",
              "      <td>False</td>\n",
              "      <td>False</td>\n",
              "      <td>False</td>\n",
              "      <td>False</td>\n",
              "      <td>False</td>\n",
              "      <td>False</td>\n",
              "      <td>False</td>\n",
              "      <td>False</td>\n",
              "      <td>False</td>\n",
              "    </tr>\n",
              "    <tr>\n",
              "      <th>3475</th>\n",
              "      <td>False</td>\n",
              "      <td>False</td>\n",
              "      <td>False</td>\n",
              "      <td>False</td>\n",
              "      <td>False</td>\n",
              "      <td>False</td>\n",
              "      <td>False</td>\n",
              "      <td>False</td>\n",
              "      <td>False</td>\n",
              "      <td>False</td>\n",
              "      <td>...</td>\n",
              "      <td>False</td>\n",
              "      <td>False</td>\n",
              "      <td>False</td>\n",
              "      <td>False</td>\n",
              "      <td>False</td>\n",
              "      <td>False</td>\n",
              "      <td>False</td>\n",
              "      <td>False</td>\n",
              "      <td>False</td>\n",
              "      <td>False</td>\n",
              "    </tr>\n",
              "    <tr>\n",
              "      <th>3476</th>\n",
              "      <td>False</td>\n",
              "      <td>False</td>\n",
              "      <td>False</td>\n",
              "      <td>False</td>\n",
              "      <td>False</td>\n",
              "      <td>False</td>\n",
              "      <td>False</td>\n",
              "      <td>False</td>\n",
              "      <td>False</td>\n",
              "      <td>False</td>\n",
              "      <td>...</td>\n",
              "      <td>False</td>\n",
              "      <td>False</td>\n",
              "      <td>False</td>\n",
              "      <td>False</td>\n",
              "      <td>False</td>\n",
              "      <td>False</td>\n",
              "      <td>False</td>\n",
              "      <td>False</td>\n",
              "      <td>False</td>\n",
              "      <td>False</td>\n",
              "    </tr>\n",
              "    <tr>\n",
              "      <th>3477</th>\n",
              "      <td>False</td>\n",
              "      <td>False</td>\n",
              "      <td>False</td>\n",
              "      <td>False</td>\n",
              "      <td>False</td>\n",
              "      <td>False</td>\n",
              "      <td>False</td>\n",
              "      <td>False</td>\n",
              "      <td>False</td>\n",
              "      <td>False</td>\n",
              "      <td>...</td>\n",
              "      <td>False</td>\n",
              "      <td>False</td>\n",
              "      <td>False</td>\n",
              "      <td>False</td>\n",
              "      <td>False</td>\n",
              "      <td>False</td>\n",
              "      <td>False</td>\n",
              "      <td>False</td>\n",
              "      <td>False</td>\n",
              "      <td>False</td>\n",
              "    </tr>\n",
              "    <tr>\n",
              "      <th>3478</th>\n",
              "      <td>False</td>\n",
              "      <td>False</td>\n",
              "      <td>False</td>\n",
              "      <td>False</td>\n",
              "      <td>False</td>\n",
              "      <td>False</td>\n",
              "      <td>False</td>\n",
              "      <td>False</td>\n",
              "      <td>False</td>\n",
              "      <td>False</td>\n",
              "      <td>...</td>\n",
              "      <td>False</td>\n",
              "      <td>False</td>\n",
              "      <td>False</td>\n",
              "      <td>False</td>\n",
              "      <td>False</td>\n",
              "      <td>False</td>\n",
              "      <td>False</td>\n",
              "      <td>False</td>\n",
              "      <td>False</td>\n",
              "      <td>False</td>\n",
              "    </tr>\n",
              "  </tbody>\n",
              "</table>\n",
              "<p>3456 rows × 192 columns</p>\n",
              "</div>"
            ],
            "text/plain": [
              "      Abazar  Abbasabad  Absard  Abuzar  Afsarieh  Ahang  Air force  \\\n",
              "0      False      False   False   False     False  False      False   \n",
              "1      False      False   False   False     False  False      False   \n",
              "2      False      False   False   False     False  False      False   \n",
              "3      False      False   False   False     False  False      False   \n",
              "4      False      False   False   False     False  False      False   \n",
              "...      ...        ...     ...     ...       ...    ...        ...   \n",
              "3474   False      False   False   False     False  False      False   \n",
              "3475   False      False   False   False     False  False      False   \n",
              "3476   False      False   False   False     False  False      False   \n",
              "3477   False      False   False   False     False  False      False   \n",
              "3478   False      False   False   False     False  False      False   \n",
              "\n",
              "      Ajudaniye  Alborz Complex  Aliabad South  ...  Waterfall  \\\n",
              "0         False           False          False  ...      False   \n",
              "1         False           False          False  ...      False   \n",
              "2         False           False          False  ...      False   \n",
              "3         False           False          False  ...      False   \n",
              "4         False           False          False  ...      False   \n",
              "...         ...             ...            ...  ...        ...   \n",
              "3474      False           False          False  ...      False   \n",
              "3475      False           False          False  ...      False   \n",
              "3476      False           False          False  ...      False   \n",
              "3477      False           False          False  ...      False   \n",
              "3478      False           False          False  ...      False   \n",
              "\n",
              "      West Ferdows Boulevard  West Pars  Yaftabad  Yakhchiabad  Yousef Abad  \\\n",
              "0                      False      False     False        False        False   \n",
              "1                      False      False     False        False        False   \n",
              "2                      False      False     False        False        False   \n",
              "3                      False      False     False        False        False   \n",
              "4                      False      False     False        False        False   \n",
              "...                      ...        ...       ...          ...          ...   \n",
              "3474                   False      False     False        False        False   \n",
              "3475                   False      False     False        False        False   \n",
              "3476                   False      False     False        False        False   \n",
              "3477                   False      False     False        False        False   \n",
              "3478                   False      False     False        False        False   \n",
              "\n",
              "      Zafar  Zaferanieh  Zargandeh  Zibadasht  \n",
              "0     False       False      False      False  \n",
              "1     False       False      False      False  \n",
              "2     False       False      False      False  \n",
              "3     False       False      False      False  \n",
              "4     False       False      False      False  \n",
              "...     ...         ...        ...        ...  \n",
              "3474  False       False      False      False  \n",
              "3475  False       False      False      False  \n",
              "3476  False       False      False      False  \n",
              "3477  False       False      False      False  \n",
              "3478  False       False      False      False  \n",
              "\n",
              "[3456 rows x 192 columns]"
            ]
          },
          "execution_count": 47,
          "metadata": {},
          "output_type": "execute_result"
        }
      ],
      "source": [
        "pd.get_dummies(df['Address'])"
      ]
    },
    {
      "cell_type": "code",
      "execution_count": 13,
      "metadata": {
        "id": "wYvJJf9_nc2B"
      },
      "outputs": [
        {
          "data": {
            "text/html": [
              "<div>\n",
              "<style scoped>\n",
              "    .dataframe tbody tr th:only-of-type {\n",
              "        vertical-align: middle;\n",
              "    }\n",
              "\n",
              "    .dataframe tbody tr th {\n",
              "        vertical-align: top;\n",
              "    }\n",
              "\n",
              "    .dataframe thead th {\n",
              "        text-align: right;\n",
              "    }\n",
              "</style>\n",
              "<table border=\"1\" class=\"dataframe\">\n",
              "  <thead>\n",
              "    <tr style=\"text-align: right;\">\n",
              "      <th></th>\n",
              "      <th>Area</th>\n",
              "      <th>Room</th>\n",
              "      <th>Parking</th>\n",
              "      <th>Warehouse</th>\n",
              "      <th>Elevator</th>\n",
              "      <th>Price</th>\n",
              "      <th>Price(USD)</th>\n",
              "      <th>Abazar</th>\n",
              "      <th>Abbasabad</th>\n",
              "      <th>Absard</th>\n",
              "      <th>...</th>\n",
              "      <th>Waterfall</th>\n",
              "      <th>West Ferdows Boulevard</th>\n",
              "      <th>West Pars</th>\n",
              "      <th>Yaftabad</th>\n",
              "      <th>Yakhchiabad</th>\n",
              "      <th>Yousef Abad</th>\n",
              "      <th>Zafar</th>\n",
              "      <th>Zaferanieh</th>\n",
              "      <th>Zargandeh</th>\n",
              "      <th>Zibadasht</th>\n",
              "    </tr>\n",
              "  </thead>\n",
              "  <tbody>\n",
              "    <tr>\n",
              "      <th>0</th>\n",
              "      <td>63</td>\n",
              "      <td>1</td>\n",
              "      <td>True</td>\n",
              "      <td>True</td>\n",
              "      <td>True</td>\n",
              "      <td>1850000000</td>\n",
              "      <td>61666.67</td>\n",
              "      <td>0</td>\n",
              "      <td>0</td>\n",
              "      <td>0</td>\n",
              "      <td>...</td>\n",
              "      <td>0</td>\n",
              "      <td>0</td>\n",
              "      <td>0</td>\n",
              "      <td>0</td>\n",
              "      <td>0</td>\n",
              "      <td>0</td>\n",
              "      <td>0</td>\n",
              "      <td>0</td>\n",
              "      <td>0</td>\n",
              "      <td>0</td>\n",
              "    </tr>\n",
              "    <tr>\n",
              "      <th>1</th>\n",
              "      <td>60</td>\n",
              "      <td>1</td>\n",
              "      <td>True</td>\n",
              "      <td>True</td>\n",
              "      <td>True</td>\n",
              "      <td>1850000000</td>\n",
              "      <td>61666.67</td>\n",
              "      <td>0</td>\n",
              "      <td>0</td>\n",
              "      <td>0</td>\n",
              "      <td>...</td>\n",
              "      <td>0</td>\n",
              "      <td>0</td>\n",
              "      <td>0</td>\n",
              "      <td>0</td>\n",
              "      <td>0</td>\n",
              "      <td>0</td>\n",
              "      <td>0</td>\n",
              "      <td>0</td>\n",
              "      <td>0</td>\n",
              "      <td>0</td>\n",
              "    </tr>\n",
              "    <tr>\n",
              "      <th>2</th>\n",
              "      <td>79</td>\n",
              "      <td>2</td>\n",
              "      <td>True</td>\n",
              "      <td>True</td>\n",
              "      <td>True</td>\n",
              "      <td>550000000</td>\n",
              "      <td>18333.33</td>\n",
              "      <td>0</td>\n",
              "      <td>0</td>\n",
              "      <td>0</td>\n",
              "      <td>...</td>\n",
              "      <td>0</td>\n",
              "      <td>0</td>\n",
              "      <td>0</td>\n",
              "      <td>0</td>\n",
              "      <td>0</td>\n",
              "      <td>0</td>\n",
              "      <td>0</td>\n",
              "      <td>0</td>\n",
              "      <td>0</td>\n",
              "      <td>0</td>\n",
              "    </tr>\n",
              "  </tbody>\n",
              "</table>\n",
              "<p>3 rows × 199 columns</p>\n",
              "</div>"
            ],
            "text/plain": [
              "  Area  Room  Parking  Warehouse  Elevator       Price  Price(USD)  Abazar  \\\n",
              "0   63     1     True       True      True  1850000000    61666.67       0   \n",
              "1   60     1     True       True      True  1850000000    61666.67       0   \n",
              "2   79     2     True       True      True   550000000    18333.33       0   \n",
              "\n",
              "   Abbasabad  Absard  ...  Waterfall  West Ferdows Boulevard  West Pars  \\\n",
              "0          0       0  ...          0                       0          0   \n",
              "1          0       0  ...          0                       0          0   \n",
              "2          0       0  ...          0                       0          0   \n",
              "\n",
              "   Yaftabad  Yakhchiabad  Yousef Abad  Zafar  Zaferanieh  Zargandeh  Zibadasht  \n",
              "0         0            0            0      0           0          0          0  \n",
              "1         0            0            0      0           0          0          0  \n",
              "2         0            0            0      0           0          0          0  \n",
              "\n",
              "[3 rows x 199 columns]"
            ]
          },
          "execution_count": 13,
          "metadata": {},
          "output_type": "execute_result"
        }
      ],
      "source": [
        "# Convert address strings into one-hot encoded dummy variables (binary columns)\n",
        "address_dummy = pd.get_dummies(df['Address']).astype(int)\n",
        "\n",
        "# Merge dummy variables back to original dataframe and Remove original address column\n",
        "df_final = df.merge(address_dummy, left_index = True, right_index = True)\n",
        "df_final.drop(columns = 'Address', inplace = True)\n",
        "df_final.head(3)"
      ]
    },
    {
      "cell_type": "code",
      "execution_count": 50,
      "metadata": {
        "id": "Wp6Gcro2nc2F"
      },
      "outputs": [
        {
          "name": "stdout",
          "output_type": "stream",
          "text": [
            "shape of x train: (2764, 197)\n",
            "shape of y train: (2764,)\n",
            "shape of x test: (692, 197)\n",
            "shape of y test: (692,)\n"
          ]
        }
      ],
      "source": [
        "# Separate features and target variable\n",
        "# Split data into training and testing sets\n",
        "\n",
        "X = df_final.drop('Price' , axis=1)\n",
        "Y = df_final['Price']\n",
        "x_train , x_test , y_train , y_test = train_test_split(X , Y , test_size=0.2 , random_state=0)\n",
        "print(f'shape of x train: {x_train.shape}')\n",
        "print(f'shape of y train: {y_train.shape}')\n",
        "print(f'shape of x test: {x_test.shape}')\n",
        "print(f'shape of y test: {y_test.shape}')"
      ]
    },
    {
      "cell_type": "markdown",
      "metadata": {},
      "source": [
        "# Model Bulding"
      ]
    },
    {
      "cell_type": "code",
      "execution_count": 129,
      "metadata": {},
      "outputs": [],
      "source": [
        "# Performs grid search hyperparameter tuning and evaluates model performance\n",
        "def hyperparameter_tuner (model , params):\n",
        "\n",
        "    start = time.time()\n",
        "\n",
        "    # Setup GridSearchCV with parallel processing\n",
        "    grid = GridSearchCV(model,\n",
        "                        param_grid = params,\n",
        "                        cv = KFold(shuffle = True, random_state = 81),\n",
        "                        n_jobs = -1)\n",
        "\n",
        "    grid_fit = grid.fit(x_train , y_train)\n",
        "\n",
        "    y_train_pred = grid_fit.predict(x_train)\n",
        "    y_test_pred = grid_fit.predict(x_test)\n",
        "\n",
        "    train_score = grid_fit.score(x_train, y_train)\n",
        "    test_score = grid_fit.score(x_test, y_test)\n",
        "    RMSE = np.sqrt(mean_squared_error(y_test , y_test_pred))\n",
        "\n",
        "    model_name = str(model).split('(')[0]\n",
        "\n",
        "    end = time.time()\n",
        "\n",
        "    # Print comprehensive report\n",
        "    print(f\"\\n{' MODEL TUNING REPORT ':=^60}\")\n",
        "    print(f\"Model Name: {model_name}\")\n",
        "    print(f\"Best parameters: {grid.best_params_}\")\n",
        "    print(f\"Training R²: {train_score:.2%} | Test R²: {test_score:.2%}\")\n",
        "    print(f\"Test RMSE: {RMSE:,.2f}\")\n",
        "    print(f\"Tuning time: {end - start:0.2f}s\")\n",
        "    print('='*60)\n",
        "    \n",
        "    return train_score, test_score, RMSE"
      ]
    },
    {
      "cell_type": "code",
      "execution_count": 130,
      "metadata": {
        "id": "pLj5zJsCnc2P"
      },
      "outputs": [
        {
          "name": "stdout",
          "output_type": "stream",
          "text": [
            "\n",
            "=================== MODEL TUNING REPORT ====================\n",
            "Model Name: LinearRegression\n",
            "Best parameters: {}\n",
            "Training R²: 60.40% | Test R²: 53.35%\n",
            "Test RMSE: 6,357,973,670.07\n",
            "Tuning time: 1.82s\n",
            "============================================================\n"
          ]
        }
      ],
      "source": [
        "lr = LinearRegression()\n",
        "\n",
        "lr_train_score, lr_test_score, lr_RMSE = hyperparameter_tuner(lr , {})"
      ]
    },
    {
      "cell_type": "code",
      "execution_count": 131,
      "metadata": {
        "id": "XanQKDJWnc2R"
      },
      "outputs": [
        {
          "name": "stdout",
          "output_type": "stream",
          "text": [
            "\n",
            "=================== MODEL TUNING REPORT ====================\n",
            "Model Name: Ridge\n",
            "Best parameters: {'alpha': 0.001}\n",
            "Training R²: 60.40% | Test R²: 53.36%\n",
            "Test RMSE: 6,357,553,945.62\n",
            "Tuning time: 2.10s\n",
            "============================================================\n"
          ]
        }
      ],
      "source": [
        "ridge = Ridge(random_state = 1) # Linear least squares with l2 regularization.\n",
        "param_ridge = {'alpha': [0.001, 0.01, 0.1, 1, 10 ,100]}\n",
        "\n",
        "ridge_train_score, ridge_test_score, ridge_RMSE = hyperparameter_tuner(ridge, param_ridge)\n"
      ]
    },
    {
      "cell_type": "code",
      "execution_count": 132,
      "metadata": {
        "id": "UacxU7zQnc2T"
      },
      "outputs": [
        {
          "name": "stdout",
          "output_type": "stream",
          "text": [
            "\n",
            "=================== MODEL TUNING REPORT ====================\n",
            "Model Name: Lasso\n",
            "Best parameters: {'alpha': 0.001}\n",
            "Training R²: 60.40% | Test R²: 53.35%\n",
            "Test RMSE: 6,357,953,517.83\n",
            "Tuning time: 40.16s\n",
            "============================================================\n"
          ]
        }
      ],
      "source": [
        "lasso = Lasso(random_state = 1)\n",
        "param_lasso = {'alpha' : [0.001, 0.01, 0.1, 1, 10 ,100]}\n",
        "\n",
        "lasso_train_score, lasso_test_score, lasso_RMSE = hyperparameter_tuner(lasso, param_lasso)\n"
      ]
    },
    {
      "cell_type": "code",
      "execution_count": 133,
      "metadata": {
        "id": "FctgnMoRnc2U"
      },
      "outputs": [
        {
          "name": "stdout",
          "output_type": "stream",
          "text": [
            "\n",
            "=================== MODEL TUNING REPORT ====================\n",
            "Model Name: ElasticNet\n",
            "Best parameters: {'alpha': 0.001, 'l1_ratio': 0.8}\n",
            "Training R²: 59.87% | Test R²: 55.07%\n",
            "Test RMSE: 6,239,782,815.22\n",
            "Tuning time: 99.38s\n",
            "============================================================\n"
          ]
        }
      ],
      "source": [
        "eln = ElasticNet(random_state=1)\n",
        "param_eln ={'alpha' : [0.001, 0.01, 0.1, 1, 10 ,100],\n",
        "            'l1_ratio':[0.3, 0.4, 0.5, 0.6, 0.7 , 0.8]}\n",
        "\n",
        "eln_train_score, eln_test_score, eln_RMSE = hyperparameter_tuner(eln, param_eln)\n"
      ]
    },
    {
      "cell_type": "code",
      "execution_count": 134,
      "metadata": {
        "id": "luE_73Munc2W"
      },
      "outputs": [
        {
          "name": "stdout",
          "output_type": "stream",
          "text": [
            "\n",
            "=================== MODEL TUNING REPORT ====================\n",
            "Model Name: DecisionTreeRegressor\n",
            "Best parameters: {'min_samples_leaf': 3, 'min_samples_split': 2}\n",
            "Training R²: 83.86% | Test R²: 76.74%\n",
            "Test RMSE: 4,489,462,112.35\n",
            "Tuning time: 3.92s\n",
            "============================================================\n"
          ]
        }
      ],
      "source": [
        "dtr = DecisionTreeRegressor(random_state = 1)\n",
        "param_dtr = {'min_samples_split': [2, 3, 4, 5],\n",
        "            'min_samples_leaf': [1, 2, 3]}\n",
        "\n",
        "dtr_train_score, dtr_test_score, dtr_RMSE = hyperparameter_tuner(dtr, param_dtr)"
      ]
    },
    {
      "cell_type": "code",
      "execution_count": 61,
      "metadata": {
        "id": "4FR_VYLjnc2Y"
      },
      "outputs": [
        {
          "name": "stdout",
          "output_type": "stream",
          "text": [
            "The best parameters for RandomForestRegressor model is: {'min_samples_leaf': 1, 'min_samples_split': 4}\n",
            "------------------------------\n",
            "(R2 score) in the training set is 93.47% for RandomForestRegressor model.\n",
            "(R2 score) in the testing set is 77.33% for RandomForestRegressor model.\n",
            "RMSE is 4,432,483,906.44 for RandomForestRegressor model.\n",
            "------------------------------\n",
            "Runtime of the program is: 82.39\n"
          ]
        }
      ],
      "source": [
        "rfr = RandomForestRegressor(random_state = 1, n_jobs = -1)\n",
        "param_rfr = {'min_samples_split': [2, 3, 4, 5],\n",
        "            'min_samples_leaf': [1, 2, 3]}\n",
        "\n",
        "rfr_train_score, rfr_test_score, rfr_RMSE = hyperparameter_tuner(rfr, param_rfr)\n"
      ]
    },
    {
      "cell_type": "code",
      "execution_count": 135,
      "metadata": {
        "id": "MexLuHmRnc2Z"
      },
      "outputs": [
        {
          "name": "stdout",
          "output_type": "stream",
          "text": [
            "\n",
            "=================== MODEL TUNING REPORT ====================\n",
            "Model Name: KNeighborsRegressor\n",
            "Best parameters: {'n_neighbors': 20, 'weights': 'uniform'}\n",
            "Training R²: 60.39% | Test R²: 63.99%\n",
            "Test RMSE: 5,586,254,776.24\n",
            "Tuning time: 9.28s\n",
            "============================================================\n"
          ]
        }
      ],
      "source": [
        "knr = KNeighborsRegressor(n_jobs = -1)\n",
        "param_knr = {'n_neighbors' : [5, 10, 15, 20, 25],\n",
        "             'weights': ['uniform', 'distance']}\n",
        "\n",
        "knr_train_score, knr_test_score, knr_RMSE = hyperparameter_tuner(knr, param_knr)"
      ]
    },
    {
      "cell_type": "code",
      "execution_count": 137,
      "metadata": {
        "id": "NPuI1XWinc2b"
      },
      "outputs": [
        {
          "name": "stdout",
          "output_type": "stream",
          "text": [
            "\n",
            "=================== MODEL TUNING REPORT ====================\n",
            "Model Name: XGBRegressor\n",
            "Best parameters: {'colsample_bytree': 1, 'gamma': 0, 'learning_rate': 0.1, 'max_depth': 5, 'n_estimators': 50, 'subsample': 0.75}\n",
            "Training R²: 89.97% | Test R²: 76.19%\n",
            "Test RMSE: 4,542,339,008.66\n",
            "Tuning time: 47.39s\n",
            "============================================================\n"
          ]
        }
      ],
      "source": [
        "xgboost = XGBRegressor(n_jobs = -1)\n",
        "param_xgboost = {'n_estimators': [50,100,150,200],\n",
        "             'learning_rate': [0.1,0.05],\n",
        "             'subsample': [0.75],\n",
        "             'colsample_bytree': [1],\n",
        "             'max_depth': [3,4,5],\n",
        "             'gamma': [0]}\n",
        "\n",
        "xgboost_train_score, xgboost_test_score, xgboost_RMSE = hyperparameter_tuner(xgboost, param_xgboost)"
      ]
    },
    {
      "cell_type": "code",
      "execution_count": 138,
      "metadata": {
        "colab": {
          "base_uri": "https://localhost:8080/"
        },
        "id": "xj4uApBvVS4i",
        "outputId": "930d337f-d705-43c0-a26c-174d5737483e"
      },
      "outputs": [
        {
          "name": "stdout",
          "output_type": "stream",
          "text": [
            "\n",
            "=================== MODEL TUNING REPORT ====================\n",
            "Model Name: ExtraTreesRegressor\n",
            "Best parameters: {'max_depth': 5, 'min_samples_leaf': 1, 'min_samples_split': 3, 'n_estimators': 50}\n",
            "Training R²: 72.35% | Test R²: 67.48%\n",
            "Test RMSE: 5,308,660,564.32\n",
            "Tuning time: 220.20s\n",
            "============================================================\n"
          ]
        }
      ],
      "source": [
        "etr = ExtraTreesRegressor(random_state=1 ,n_jobs= -1)\n",
        "param_etr = {'n_estimators': [50,100,150,200],\n",
        "              'max_depth': [3,4,5],\n",
        "              'min_samples_split': [2,3],\n",
        "              'min_samples_leaf' : [1,2],\n",
        "              }\n",
        "\n",
        "etr_train_score, etr_test_score, etr_RMSE = hyperparameter_tuner(etr , param_etr)"
      ]
    },
    {
      "cell_type": "code",
      "execution_count": 139,
      "metadata": {
        "id": "qybFB_E3OkRW"
      },
      "outputs": [
        {
          "name": "stdout",
          "output_type": "stream",
          "text": [
            "\n",
            "=================== MODEL TUNING REPORT ====================\n",
            "Model Name: GradientBoostingRegressor\n",
            "Best parameters: {'learning_rate': 0.2, 'max_depth': 4, 'min_samples_leaf': 1, 'min_samples_split': 2, 'n_estimators': 150}\n",
            "Training R²: 96.55% | Test R²: 78.26%\n",
            "Test RMSE: 4,340,600,582.07\n",
            "Tuning time: 159.50s\n",
            "============================================================\n"
          ]
        }
      ],
      "source": [
        "gbr = GradientBoostingRegressor(random_state = 1)\n",
        "\n",
        "param_gbr = { 'n_estimators': [100 ,150],\n",
        "             'learning_rate': [0.1,0.2],\n",
        "              'max_depth' : [4, 5],\n",
        "              'min_samples_split': [2,3],\n",
        "              'min_samples_leaf' : [1,2],\n",
        "}\n",
        "gbr_train_score, gbr_test_score, gbr_RMSE = hyperparameter_tuner(gbr , param_gbr)"
      ]
    },
    {
      "cell_type": "code",
      "execution_count": 140,
      "metadata": {
        "id": "tMP6zavgSIZn"
      },
      "outputs": [
        {
          "data": {
            "text/html": [
              "<div>\n",
              "<style scoped>\n",
              "    .dataframe tbody tr th:only-of-type {\n",
              "        vertical-align: middle;\n",
              "    }\n",
              "\n",
              "    .dataframe tbody tr th {\n",
              "        vertical-align: top;\n",
              "    }\n",
              "\n",
              "    .dataframe thead th {\n",
              "        text-align: right;\n",
              "    }\n",
              "</style>\n",
              "<table border=\"1\" class=\"dataframe\">\n",
              "  <thead>\n",
              "    <tr style=\"text-align: right;\">\n",
              "      <th></th>\n",
              "      <th>Training score</th>\n",
              "      <th>Testing score</th>\n",
              "      <th>RMSE</th>\n",
              "    </tr>\n",
              "  </thead>\n",
              "  <tbody>\n",
              "    <tr>\n",
              "      <th>GradientBoostingRegressor</th>\n",
              "      <td>1</td>\n",
              "      <td>1</td>\n",
              "      <td>4340600582</td>\n",
              "    </tr>\n",
              "    <tr>\n",
              "      <th>RandomForestRegressor</th>\n",
              "      <td>1</td>\n",
              "      <td>1</td>\n",
              "      <td>4432483906</td>\n",
              "    </tr>\n",
              "    <tr>\n",
              "      <th>DecisionTreeRegressor</th>\n",
              "      <td>1</td>\n",
              "      <td>1</td>\n",
              "      <td>4489462112</td>\n",
              "    </tr>\n",
              "    <tr>\n",
              "      <th>XGBoostRegressor</th>\n",
              "      <td>1</td>\n",
              "      <td>1</td>\n",
              "      <td>4542339009</td>\n",
              "    </tr>\n",
              "    <tr>\n",
              "      <th>ExtraTreesRegressor</th>\n",
              "      <td>1</td>\n",
              "      <td>1</td>\n",
              "      <td>5308660564</td>\n",
              "    </tr>\n",
              "    <tr>\n",
              "      <th>KNeighborsRegressor</th>\n",
              "      <td>1</td>\n",
              "      <td>1</td>\n",
              "      <td>5586254776</td>\n",
              "    </tr>\n",
              "    <tr>\n",
              "      <th>ElasticNet</th>\n",
              "      <td>1</td>\n",
              "      <td>1</td>\n",
              "      <td>6239782815</td>\n",
              "    </tr>\n",
              "    <tr>\n",
              "      <th>Ridge</th>\n",
              "      <td>1</td>\n",
              "      <td>1</td>\n",
              "      <td>6357553946</td>\n",
              "    </tr>\n",
              "    <tr>\n",
              "      <th>Lasso</th>\n",
              "      <td>1</td>\n",
              "      <td>1</td>\n",
              "      <td>6357953518</td>\n",
              "    </tr>\n",
              "    <tr>\n",
              "      <th>LinearRegression</th>\n",
              "      <td>1</td>\n",
              "      <td>1</td>\n",
              "      <td>6357973670</td>\n",
              "    </tr>\n",
              "  </tbody>\n",
              "</table>\n",
              "</div>"
            ],
            "text/plain": [
              "                           Training score  Testing score       RMSE\n",
              "GradientBoostingRegressor               1              1 4340600582\n",
              "RandomForestRegressor                   1              1 4432483906\n",
              "DecisionTreeRegressor                   1              1 4489462112\n",
              "XGBoostRegressor                        1              1 4542339009\n",
              "ExtraTreesRegressor                     1              1 5308660564\n",
              "KNeighborsRegressor                     1              1 5586254776\n",
              "ElasticNet                              1              1 6239782815\n",
              "Ridge                                   1              1 6357553946\n",
              "Lasso                                   1              1 6357953518\n",
              "LinearRegression                        1              1 6357973670"
            ]
          },
          "execution_count": 140,
          "metadata": {},
          "output_type": "execute_result"
        }
      ],
      "source": [
        "# Compile model performance metrics into comparison dataframe\n",
        "models_score = pd.DataFrame({\n",
        "    'Training score': [\n",
        "        lr_train_score, ridge_train_score, lasso_train_score, \n",
        "        eln_train_score, dtr_train_score, rfr_train_score, \n",
        "        knr_train_score, xgboost_train_score, etr_train_score,\n",
        "        gbr_train_score\n",
        "    ],\n",
        "    'Testing score': [\n",
        "        lr_test_score, ridge_test_score, lasso_test_score,\n",
        "        eln_test_score, dtr_test_score, rfr_test_score,\n",
        "        knr_test_score, xgboost_test_score, etr_test_score,\n",
        "        gbr_test_score\n",
        "    ], \n",
        "    'RMSE': [\n",
        "        lr_RMSE, ridge_RMSE, lasso_RMSE,\n",
        "        eln_RMSE, dtr_RMSE, rfr_RMSE,\n",
        "        knr_RMSE, xgboost_RMSE, etr_RMSE,\n",
        "        gbr_RMSE\n",
        "    ]},\n",
        "    index=[\n",
        "        'LinearRegression', 'Ridge', 'Lasso',\n",
        "        'ElasticNet', 'DecisionTreeRegressor', \n",
        "        'RandomForestRegressor', 'KNeighborsRegressor',\n",
        "        'XGBoostRegressor', 'ExtraTreesRegressor',\n",
        "        'GradientBoostingRegressor'\n",
        "    ]\n",
        ")\n",
        "models_score.sort_values('Testing score', ascending=False)"
      ]
    },
    {
      "cell_type": "code",
      "execution_count": 142,
      "metadata": {},
      "outputs": [],
      "source": [
        "models_score.to_csv('model_score' ,index = False)"
      ]
    },
    {
      "cell_type": "code",
      "execution_count": 149,
      "metadata": {
        "id": "CoOnv2g6Xjjr"
      },
      "outputs": [
        {
          "data": {
            "image/png": "[encoded data removed]",
            "text/plain": [
              "<Figure size 2200x1200 with 2 Axes>"
            ]
          },
          "metadata": {},
          "output_type": "display_data"
        }
      ],
      "source": [
        "fig, ax = plt.subplots(figsize=(22,12))\n",
        "sns.set(style='white') \n",
        "\n",
        "# Bar plot for RMSE\n",
        "ax = sns.barplot(x=models_score.index,\n",
        "                y=models_score['RMSE']/1000000000,\n",
        "                alpha=0.7,\n",
        "                palette='Greens_r',\n",
        "                edgecolor='darkgreen')\n",
        "ax.set_ylabel(\"RMSE (billion tomans)\", fontsize=18)\n",
        "ax.set_xlabel(\"Models\", fontsize=18)\n",
        "ax.tick_params(axis='x', rotation=45)\n",
        "plt.xticks(rotation=45, ha='right', fontsize=14)  # بهبود خوانایی برچسب‌ها\n",
        "\n",
        "# Add RMSE values on bars\n",
        "for i, v in enumerate(models_score['RMSE']/1000000000):\n",
        "    ax.text(i, v, f\"{v:.2f}\",\n",
        "            ha='center',\n",
        "            va='bottom',\n",
        "            fontsize=12,\n",
        "            fontweight='bold')\n",
        "\n",
        "# Secondary axis for R² scores\n",
        "sec_ax = ax.twinx()\n",
        "\n",
        "# Training score (blue)\n",
        "sec_ax = sns.lineplot(x=models_score.index,\n",
        "                     y=models_score['Training score'],\n",
        "                     linewidth=3,\n",
        "                     color='blue',\n",
        "                     marker='o',\n",
        "                     markersize=10,\n",
        "                     label='Training score')\n",
        "\n",
        "# Testing score (red)\n",
        "sec_ax = sns.lineplot(x=models_score.index,\n",
        "                     y=models_score['Testing score'],\n",
        "                     linewidth=3,\n",
        "                     color='red',\n",
        "                     marker='s',\n",
        "                     markersize=10,\n",
        "                     label='Testing score')\n",
        "\n",
        "# Add R² values on points\n",
        "for i, (train, test) in enumerate(zip(models_score['Training score'],\n",
        "                                      models_score['Testing score'])):\n",
        "    sec_ax.text(i, train+0.01, f\"{train:.3f}\",\n",
        "                ha='center',\n",
        "                va='bottom',\n",
        "                color='blue',\n",
        "                fontsize=11)\n",
        "    sec_ax.text(i, test-0.02, f\"{test:.3f}\",\n",
        "                ha='center',\n",
        "                va='top',\n",
        "                color='red',\n",
        "                fontsize=11)\n",
        "\n",
        "sec_ax.set_ylabel(\"R² Score\", fontsize=18)\n",
        "sec_ax.set_ylim(0.5, 1.05)  # محدوده معقول برای R²\n",
        "sec_ax.legend(loc='lower right', fontsize=14)\n",
        "\n",
        "\n",
        "# عنوان و زیباسازی\n",
        "plt.title(\"Model Performance Comparison: RMSE vs R² Scores\",\n",
        "          fontsize=22, pad=20)\n",
        "sns.despine(offset=10)\n",
        "\n",
        "plt.tight_layout()\n",
        "plt.show()"
      ]
    },
    {
      "cell_type": "markdown",
      "metadata": {},
      "source": [
        "# Save Model"
      ]
    },
    {
      "cell_type": "code",
      "execution_count": 150,
      "metadata": {
        "id": "8aT7L4NgYeec"
      },
      "outputs": [
        {
          "data": {
            "text/plain": [
              "['finalized.joblib']"
            ]
          },
          "execution_count": 150,
          "metadata": {},
          "output_type": "execute_result"
        }
      ],
      "source": [
        "joblib.dump(etr.fit(x_train , y_train), 'finalized.joblib')"
      ]
    },
    {
      "cell_type": "code",
      "execution_count": 4,
      "metadata": {},
      "outputs": [],
      "source": [
        "model = joblib.load('finalized.joblib')"
      ]
    },
    {
      "cell_type": "code",
      "execution_count": 32,
      "metadata": {},
      "outputs": [],
      "source": [
        "address_list = address_dummy.columns.tolist() "
      ]
    },
    {
      "cell_type": "code",
      "execution_count": 54,
      "metadata": {},
      "outputs": [],
      "source": [
        "def predict_house_price_in_Tehran(area, room, parking, warehouse, elevator, address):\n",
        "    parking = 1 if \"دارد\" in parking else 0\n",
        "    warehouse = 1 if \"دارد\" in warehouse else 0\n",
        "    elevator = 1 if \"دارد\" in elevator else 0\n",
        "    input_address = pd.DataFrame(0, index=[0] , columns=address_list)\n",
        "    if address in address_list:\n",
        "        input_address[address] = 1\n",
        "    \n",
        "    input_data = pd.DataFrame({\n",
        "        'Area' : [area],\n",
        "        'Room' : [room],\n",
        "        'Parking' : [parking],\n",
        "        'Warehouse' : [warehouse],\n",
        "        'Elevator' : [elevator]\n",
        "    })\n",
        "    \n",
        "    final_input = pd.concat([input_data, input_address], axis=1)\n",
        "    prediction = model.predict(final_input)\n",
        "    \n",
        "    return prediction[0]\n"
      ]
    },
    {
      "cell_type": "code",
      "execution_count": 55,
      "metadata": {},
      "outputs": [],
      "source": [
        "# رابط Gradio\n",
        "inputs = [\n",
        "    gr.Number(label=\"متراژ (متر مربع)\"),\n",
        "    gr.Number(label=\"تعداد اتاق\"),\n",
        "    gr.Radio(label=\"پارکینگ\", choices=[\"ندارد\", \"دارد\"], value=\"ندارد\"),\n",
        "    gr.Radio(label=\"انباری\", choices=[\"ندارد\", \"دارد\"], value=\"ندارد\"),\n",
        "    gr.Radio(label=\"آسانسور\", choices=[\"ندارد\", \"دارد\"], value=\"ندارد\"),\n",
        "    gr.Dropdown(label=\"آدرس\", choices=address_list)\n",
        "]"
      ]
    },
    {
      "cell_type": "code",
      "execution_count": 36,
      "metadata": {},
      "outputs": [],
      "source": [
        "output = gr.Number(label=\"قیمت پیش‌بینی شده (تومان)\")"
      ]
    },
    {
      "cell_type": "code",
      "execution_count": 59,
      "metadata": {},
      "outputs": [
        {
          "name": "stdout",
          "output_type": "stream",
          "text": [
            "* Running on local URL:  http://127.0.0.1:7863\n",
            "* Running on public URL: https://bdfdc9c0aad5a2f19f.gradio.live\n",
            "\n",
            "This share link expires in 1 week. For free permanent hosting and GPU upgrades, run `gradio deploy` from the terminal in the working directory to deploy to Hugging Face Spaces (https://huggingface.co/spaces)\n"
          ]
        },
        {
          "data": {
            "text/html": [
              "<div><iframe src=\"https://bdfdc9c0aad5a2f19f.gradio.live\" width=\"100%\" height=\"500\" allow=\"autoplay; camera; microphone; clipboard-read; clipboard-write;\" frameborder=\"0\" allowfullscreen></iframe></div>"
            ],
            "text/plain": [
              "<IPython.core.display.HTML object>"
            ]
          },
          "metadata": {},
          "output_type": "display_data"
        },
        {
          "data": {
            "text/plain": []
          },
          "execution_count": 59,
          "metadata": {},
          "output_type": "execute_result"
        }
      ],
      "source": [
        "gr.Interface(fn= predict_house_price_in_Tehran,\n",
        "            inputs=inputs,\n",
        "            outputs=output,\n",
        "            title=\"1400 پیش‌بینی قیمت خانه در تهران\").launch(share=True)"
      ]
    },
    {
      "cell_type": "code",
      "execution_count": 63,
      "metadata": {},
      "outputs": [
        {
          "ename": "SyntaxError",
          "evalue": "invalid syntax (3712477637.py, line 1)",
          "output_type": "error",
          "traceback": [
            "\u001b[1;36m  Cell \u001b[1;32mIn[63], line 1\u001b[1;36m\u001b[0m\n\u001b[1;33m    git clone https://github.com/your-username/Tehran-House-Price-Predictor.git\u001b[0m\n\u001b[1;37m        ^\u001b[0m\n\u001b[1;31mSyntaxError\u001b[0m\u001b[1;31m:\u001b[0m invalid syntax\n"
          ]
        }
      ],
      "source": [
        "git clone https://github.com/your-username/Tehran-House-Price-Predictor.git\n",
        "cd Tehran-House-Price-Predictor"
      ]
    }
  ],
  "metadata": {
    "colab": {
      "provenance": []
    },
    "kaggle": {
      "accelerator": "none",
      "dataSources": [
        {
          "datasetId": 1573831,
          "sourceId": 2590700,
          "sourceType": "datasetVersion"
        }
      ],
      "dockerImageVersionId": 31089,
      "isGpuEnabled": false,
      "isInternetEnabled": false,
      "language": "python",
      "sourceType": "notebook"
    },
    "kernelspec": {
      "display_name": "Python 3",
      "language": "python",
      "name": "python3"
    },
    "language_info": {
      "codemirror_mode": {
        "name": "ipython",
        "version": 3
      },
      "file_extension": ".py",
      "mimetype": "text/x-python",
      "name": "python",
      "nbconvert_exporter": "python",
      "pygments_lexer": "ipython3",
      "version": "3.12.7"
    }
  },
  "nbformat": 4,
  "nbformat_minor": 0
}
